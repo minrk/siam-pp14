{
 "metadata": {
  "name": "Multiplexing Exercises"
 },
 "nbformat": 3,
 "nbformat_minor": 0,
 "worksheets": [
  {
   "cells": [
    {
     "cell_type": "markdown",
     "metadata": {},
     "source": [
      "# Multiplexing Exercises\n",
      "\n",
      "## Monte Carlo \u03c0\n",
      "\n",
      "A simple toy problem to get a handle on multiple engines is a Monte\n",
      "Carlo approximation of \u03c0.\n",
      "\n",
      "Let's say we have a dartboard with a round target inscribed on a square\n",
      "board. If you threw darts randomly, and they land evenly distributed on\n",
      "the square board, how many darts would you expect to hit the target?\n",
      "\n",
      "<img src=\"files/figs/darts.png\"/>"
     ]
    },
    {
     "cell_type": "markdown",
     "metadata": {},
     "source": [
      "$$\n",
      "\\frac{A_c}{A_{sq}} = \\frac{\\pi r^2}{(2r)^2} = \\frac{\\pi}{4}\n",
      "$$"
     ]
    },
    {
     "cell_type": "code",
     "collapsed": false,
     "input": [
      "from random import random\n",
      "from math import pi\n",
      "\n",
      "def mcpi(nsamples):\n",
      "    s = 0\n",
      "    for i in xrange(nsamples):\n",
      "        x = random()\n",
      "        y = random()\n",
      "        if x*x + y*y <= 1:\n",
      "            s+=1\n",
      "    return 4.*s/nsamples"
     ],
     "language": "python",
     "metadata": {},
     "outputs": [],
     "prompt_number": 1
    },
    {
     "cell_type": "code",
     "collapsed": false,
     "input": [
      "for n in [10, 100, 1000, 10000, 100000, 1000000]:\n",
      "    print \"%8i\" % n,\n",
      "    for i in range(3):\n",
      "        print \"%.5f\" % mcpi(n),\n",
      "    print"
     ],
     "language": "python",
     "metadata": {},
     "outputs": [
      {
       "output_type": "stream",
       "stream": "stdout",
       "text": [
        "      10 3.60000 3.20000 2.80000\n",
        "     100 3.32000 3.20000 3.40000\n",
        "    1000 3.15200 3.10000 3.04800\n",
        "   10000 3.14160 3.14520 3.14400\n",
        "  100000 "
       ]
      },
      {
       "output_type": "stream",
       "stream": "stdout",
       "text": [
        "3.14772 3.14336 "
       ]
      },
      {
       "output_type": "stream",
       "stream": "stdout",
       "text": [
        "3.15044\n",
        " 1000000 "
       ]
      },
      {
       "output_type": "stream",
       "stream": "stdout",
       "text": [
        "3.13950 "
       ]
      },
      {
       "output_type": "stream",
       "stream": "stdout",
       "text": [
        "3.14306 "
       ]
      },
      {
       "output_type": "stream",
       "stream": "stdout",
       "text": [
        "3.14049\n"
       ]
      }
     ],
     "prompt_number": 2
    },
    {
     "cell_type": "code",
     "collapsed": false,
     "input": [
      "%timeit mcpi(1000000)"
     ],
     "language": "python",
     "metadata": {},
     "outputs": [
      {
       "output_type": "stream",
       "stream": "stdout",
       "text": [
        "1 loops, best of 3: 3.47 s per loop\n"
       ]
      }
     ],
     "prompt_number": 9
    },
    {
     "cell_type": "markdown",
     "metadata": {},
     "source": [
      "It takes a lot of samples to get a good approximation. Can you write a\n",
      "function that will use your engines to break up the work?\n",
      "\n",
      "    def multi_mcpi(dview, nsamples):\n",
      "        raise NotImplementedError(\"you write this\")"
     ]
    },
    {
     "cell_type": "code",
     "collapsed": false,
     "input": [
      "from IPython import parallel\n",
      "rc = parallel.Client()\n",
      "\n",
      "view = rc[:]"
     ],
     "language": "python",
     "metadata": {},
     "outputs": [],
     "prompt_number": 4
    },
    {
     "cell_type": "code",
     "collapsed": true,
     "input": [
      "%load soln/mcpi.py"
     ],
     "language": "python",
     "metadata": {},
     "outputs": [],
     "prompt_number": 5
    },
    {
     "cell_type": "code",
     "collapsed": false,
     "input": [
      "multi_mcpi(view, 10000000)"
     ],
     "language": "python",
     "metadata": {},
     "outputs": [
      {
       "output_type": "pyout",
       "prompt_number": 12,
       "text": [
        "3.1413028"
       ]
      }
     ],
     "prompt_number": 12
    },
    {
     "cell_type": "markdown",
     "metadata": {},
     "source": [
      "## Remote Iterators\n",
      "\n",
      "Can you create an object that iterates through a remote iterable?\n",
      "\n",
      "    e0['a'] = range(5)\n",
      "\n",
      "    ra = remote_iterator(dview, 'a')\n",
      "    \n",
      "    for element in ra:\n",
      "        print element"
     ]
    },
    {
     "cell_type": "markdown",
     "metadata": {},
     "source": [
      "Remote exceptions arrive as RemoteErrors with an `ename` attribute"
     ]
    },
    {
     "cell_type": "code",
     "collapsed": false,
     "input": [
      "from IPython.parallel.error import RemoteError\n",
      "\n",
      "e0 = rc[0]\n",
      "try:\n",
      "    e0.execute(\"1/0\", block=True)\n",
      "except RemoteError as e:\n",
      "    if e.ename == 'ZeroDivisionError':\n",
      "        print \"oops, divided by zero!\"\n",
      "    else:\n",
      "        # unhandled error\n",
      "        raise e\n",
      "            "
     ],
     "language": "python",
     "metadata": {},
     "outputs": [
      {
       "output_type": "stream",
       "stream": "stdout",
       "text": [
        "oops, divided by zero!\n"
       ]
      }
     ],
     "prompt_number": 13
    },
    {
     "cell_type": "code",
     "collapsed": true,
     "input": [
      "%load soln/remoteiterhint.py"
     ],
     "language": "python",
     "metadata": {},
     "outputs": [],
     "prompt_number": 14
    },
    {
     "cell_type": "code",
     "collapsed": false,
     "input": [
      "%load soln/remoteiter.py"
     ],
     "language": "python",
     "metadata": {},
     "outputs": [],
     "prompt_number": 20
    },
    {
     "cell_type": "code",
     "collapsed": true,
     "input": [
      "# Slightly modified version of:\n",
      "# http://aspn.activestate.com/ASPN/Cookbook/Python/Recipe/511509\n",
      "\n",
      "import heapq\n",
      "\n",
      "def mergesort(list_of_lists, key=None):\n",
      "    \"\"\" Perform an N-way merge operation on sorted lists.\n",
      "\n",
      "    @param list_of_lists: (really iterable of iterable) of sorted elements\n",
      "    (either by naturally or by C{key})\n",
      "    @param key: specify sort key function (like C{sort()}, C{sorted()})\n",
      "\n",
      "    Yields tuples of the form C{(item, iterator)}, where the iterator is the\n",
      "    built-in list iterator or something you pass in, if you pre-generate the\n",
      "    iterators.\n",
      "\n",
      "    This is a stable merge; complexity O(N lg N)\n",
      "\n",
      "    Examples::\n",
      "\n",
      "    >>> print list(mergesort([[1,2,3,4],\n",
      "    ...                      [2,3.25,3.75,4.5,6,7],\n",
      "    ...                      [2.625,3.625,6.625,9]]))\n",
      "    [1, 2, 2, 2.625, 3, 3.25, 3.625, 3.75, 4, 4.5, 6, 6.625, 7, 9]\n",
      "\n",
      "    # note stability\n",
      "    >>> print list(mergesort([[1,2,3,4],\n",
      "    ...                      [2,3.25,3.75,4.5,6,7],\n",
      "    ...                      [2.625,3.625,6.625,9]],\n",
      "    ...                      key=int))\n",
      "    [1, 2, 2, 2.625, 3, 3.25, 3.75, 3.625, 4, 4.5, 6, 6.625, 7, 9]\n",
      "\n",
      "\n",
      "    >>> print list(mergesort([[4, 3, 2, 1],\n",
      "    ...                      [7, 6, 4.5, 3.75, 3.25, 2],\n",
      "    ...                      [9, 6.625, 3.625, 2.625]],\n",
      "    ...                      key=lambda x: -x))\n",
      "    [9, 7, 6.625, 6, 4.5, 4, 3.75, 3.625, 3.25, 3, 2.625, 2, 2, 1]\n",
      "    \"\"\"\n",
      "\n",
      "    heap = []\n",
      "    for i, itr in enumerate(iter(pl) for pl in list_of_lists):\n",
      "        try:\n",
      "            item = itr.next()\n",
      "            if key:\n",
      "                toadd = (key(item), i, item, itr)\n",
      "            else:\n",
      "                toadd = (item, i, itr)\n",
      "            heap.append(toadd)\n",
      "        except StopIteration:\n",
      "            pass\n",
      "    heapq.heapify(heap)\n",
      "\n",
      "    if key:\n",
      "        while heap:\n",
      "            _, idx, item, itr = heap[0]\n",
      "            yield item\n",
      "            try:\n",
      "                item = itr.next()\n",
      "                heapq.heapreplace(heap, (key(item), idx, item, itr) )\n",
      "            except StopIteration:\n",
      "                heapq.heappop(heap)\n",
      "\n",
      "    else:\n",
      "        while heap:\n",
      "            item, idx, itr = heap[0]\n",
      "            yield item\n",
      "            try:\n",
      "                heapq.heapreplace(heap, (itr.next(), idx, itr))\n",
      "            except StopIteration:\n",
      "                heapq.heappop(heap)"
     ],
     "language": "python",
     "metadata": {},
     "outputs": [],
     "prompt_number": 16
    },
    {
     "cell_type": "markdown",
     "metadata": {},
     "source": [
      "Make a set of 'sorted datasets'"
     ]
    },
    {
     "cell_type": "code",
     "collapsed": true,
     "input": [
      "a0 = range(5,20)\n",
      "a1 = range(10)\n",
      "a2 = range(15,25)"
     ],
     "language": "python",
     "metadata": {},
     "outputs": [],
     "prompt_number": 17
    },
    {
     "cell_type": "markdown",
     "metadata": {},
     "source": [
      "Now, imagine these had been created in the remote engines by some long\n",
      "computation.  In this simple example, we just send them over into the\n",
      "remote engines.  They will all be called 'a' in each engine."
     ]
    },
    {
     "cell_type": "code",
     "collapsed": true,
     "input": [
      "rc[0]['a'] = a0\n",
      "rc[1]['a'] = a1\n",
      "rc[2]['a'] = a2"
     ],
     "language": "python",
     "metadata": {},
     "outputs": [],
     "prompt_number": 18
    },
    {
     "cell_type": "markdown",
     "metadata": {},
     "source": [
      "And we now make a local object which represents the remote iterator"
     ]
    },
    {
     "cell_type": "code",
     "collapsed": true,
     "input": [
      "ra0 = remote_iterator(rc[0],'a')\n",
      "ra1 = remote_iterator(rc[1],'a')\n",
      "ra2 = remote_iterator(rc[2],'a')"
     ],
     "language": "python",
     "metadata": {},
     "outputs": [],
     "prompt_number": 22
    },
    {
     "cell_type": "markdown",
     "metadata": {},
     "source": [
      "Let's merge them, both locally and remotely:"
     ]
    },
    {
     "cell_type": "code",
     "collapsed": false,
     "input": [
      "print 'Merge the local datasets:'\n",
      "print list(mergesort([a0,a1,a2]))\n",
      "    \n",
      "print 'Locally merge the remote sets:'\n",
      "print list(mergesort([ra0,ra1,ra2]))"
     ],
     "language": "python",
     "metadata": {},
     "outputs": [
      {
       "output_type": "stream",
       "stream": "stdout",
       "text": [
        "Merge the local datasets:\n",
        "[0, 1, 2, 3, 4, 5, 5, 6, 6, 7, 7, 8, 8, 9, 9, 10, 11, 12, 13, 14, 15, 15, 16, 16, 17, 17, 18, 18, 19, 19, 20, 21, 22, 23, 24]\n",
        "Locally merge the remote sets:\n",
        "[0, 1, 2, 3, 4, 5, 5, 6, 6, 7, 7, 8, 8, 9, 9, 10, 11, 12, 13, 14, 15, 15, 16, 16, 17, 17, 18, 18, 19, 19, 20, 21, 22, 23, 24]"
       ]
      },
      {
       "output_type": "stream",
       "stream": "stdout",
       "text": [
        "\n"
       ]
      }
     ],
     "prompt_number": 23
    },
    {
     "cell_type": "code",
     "collapsed": true,
     "input": [],
     "language": "python",
     "metadata": {},
     "outputs": []
    }
   ],
   "metadata": {}
  }
 ]
}