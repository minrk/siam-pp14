{
 "metadata": {
  "name": "00_Preamble"
 },
 "nbformat": 2,
 "worksheets": [
  {
   "cells": [
    {
     "cell_type": "markdown",
     "source": [
      "# IPython.parallel",
      "",
      "## Interactive (parallel) Python",
      "",
      "https://github.com/minrk/PyData2012",
      "",
      "-   Brian Granger, *Cal Poly Physics*",
      "-   Fernando Perez, *UC Berkeley Neuroscience*",
      "-   **Min Ragan-Kelley**, *UC Berkeley Applied Science & Technology*"
     ]
    },
    {
     "cell_type": "markdown",
     "source": [
      "# Installation and dependencies",
      "",
      "You will need IPython 0.12 (or better yet master), and pyzmq \u2265 2.1.7. To use the demo notebooks, you will also need tornado \u2265 2.1. I will also make use of numpy and matplotlib. If you have EPD (or EPDFree) 7.2, you have all of these.",
      "",
      "To get IPython from master:",
      "",
      "    git clone git://github.com/ipython/ipython.git",
      "",
      "or without git:",
      "",
      "    pip install https://github.com/ipython/ipython/tarball/master",
      "",
      "pyzmq-2.1.11 has eggs for various current OSX and Windows Pythons. If we",
      "don't have an egg for you, you can build & install libzmq from",
      "[http://www.zeromq.org/area:download](http://www.zeromq.org/area:download).",
      "",
      "pyzmq [eggs](http://python.org/pypi/pyzmq) and",
      "[installers](https://github.com/zeromq/pyzmq/downloads).",
      "",
      "Macs can get a 32+64b intel libzmq via",
      "[homebrew](https://github.com/mxcl/homebrew) with:",
      "",
      "    brew install zeromq --universal",
      "",
      "After you have libzmq (and run ldconfig to update its cache), pyzmq",
      "*should* be pip/easy\\_installable.",
      "",
      "Get the [tutorial code](https://github.com/minrk/PyData2012)",
      "",
      "Optional dependencies: I will use [NetworkX](http://networkx.lanl.gov/)",
      "for one demo, but it is not critical.  NetworkX is in EPD, but not EPDFree."
     ]
    }
   ]
  }
 ]
}