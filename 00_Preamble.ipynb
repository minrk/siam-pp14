{
 "metadata": {
  "name": "00_Preamble"
 },
 "nbformat": 3,
 "nbformat_minor": 0,
 "worksheets": [
  {
   "cells": [
    {
     "cell_type": "markdown",
     "metadata": {},
     "source": [
      "# IPython.parallel\n",
      "\n",
      "## Interactive (parallel) Python\n",
      "\n",
      "https://github.com/minrk/IPython.parallel.tutorial\n",
      "\n",
      "-   **Min Ragan-Kelley**, *UC Berkeley Applied Science & Technology*"
     ]
    },
    {
     "cell_type": "markdown",
     "metadata": {},
     "source": [
      "# Installation and dependencies\n",
      "\n",
      "You will need IPython 0.13.1 (or better yet master), and pyzmq \u2265 2.1.7. To use the demo notebooks, you will also need tornado \u2265 2.1. I will also make use of numpy and matplotlib. If you have EPD (or EPDFree) or AnacondaCE, you already have all of these.\n",
      "\n",
      "To get IPython from master:\n",
      "\n",
      "    git clone git://github.com/ipython/ipython.git\n",
      "\n",
      "or without git:\n",
      "\n",
      "    pip install https://github.com/ipython/ipython/tarball/master\n",
      "\n",
      "pyzmq has eggs for various current OSX and Windows Pythons, so easy_install is recommended over pip. on those platforms.\n",
      "\n",
      "pyzmq [eggs and installers](http://python.org/pypi/pyzmq).\n",
      "\n",
      "Get the [tutorial code](https://github.com/minrk/IPython.parallel.tutorial)\n",
      "\n",
      "Optional dependencies: I will use [NetworkX](http://networkx.lanl.gov/)\n",
      "for one demo, and OpenCV for another (requires `python-opencv` and `opencv-doc`), and possibly `scikit-image`, but they are not critical.  All are in EPD and AnacondaCE, but not EPDFree."
     ]
    },
    {
     "cell_type": "code",
     "collapsed": false,
     "input": [],
     "language": "python",
     "metadata": {},
     "outputs": []
    }
   ],
   "metadata": {}
  }
 ]
}