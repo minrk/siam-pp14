{
 "metadata": {
  "name": "21_LoadBalancing"
 },
 "nbformat": 2,
 "worksheets": [
  {
   "cells": [
    {
     "cell_type": "markdown",
     "source": [
      "# Load-balancing with IPython.parallel"
     ]
    },
    {
     "cell_type": "code",
     "collapsed": false,
     "input": [
      "import os,sys,time",
      "import numpy as np",
      "",
      "from IPython.core.display import display",
      "from IPython import parallel",
      "rc = parallel.Client()",
      "dview = rc[:]"
     ],
     "language": "python",
     "outputs": [],
     "prompt_number": 103
    },
    {
     "cell_type": "markdown",
     "source": [
      "Create a LoadBalancedView"
     ]
    },
    {
     "cell_type": "code",
     "collapsed": false,
     "input": [
      "lview = rc.load_balanced_view()",
      "lview"
     ],
     "language": "python",
     "outputs": [
      {
       "output_type": "pyout",
       "prompt_number": 104,
       "text": [
        "<LoadBalancedView None>"
       ]
      }
     ],
     "prompt_number": 104
    },
    {
     "cell_type": "markdown",
     "source": [
      "LoadBalancedViews behave very much like a DirectView on a single engine:",
      "",
      "Each call to `apply()` results in a single remote computation,",
      "and the result (or AsyncResult) of that call is returned directly,",
      "rather than in a list, as in the multi-engine DirectView."
     ]
    },
    {
     "cell_type": "code",
     "collapsed": true,
     "input": [
      "e0 = rc[0]"
     ],
     "language": "python",
     "outputs": [],
     "prompt_number": 105
    },
    {
     "cell_type": "code",
     "collapsed": false,
     "input": [
      "from numpy.linalg import norm",
      "A = np.random.random(1024)",
      "",
      "e0.apply_sync(norm, A, 2)"
     ],
     "language": "python",
     "outputs": [
      {
       "output_type": "pyout",
       "prompt_number": 106,
       "text": [
        "18.635657447025618"
       ]
      }
     ],
     "prompt_number": 106
    },
    {
     "cell_type": "code",
     "collapsed": false,
     "input": [
      "lview.apply_sync(norm, A, 2)"
     ],
     "language": "python",
     "outputs": [
      {
       "output_type": "pyout",
       "prompt_number": 107,
       "text": [
        "18.635657447025618"
       ]
      }
     ],
     "prompt_number": 107
    },
    {
     "cell_type": "markdown",
     "source": [
      "However, unlike the DirectView of a single engine, you are letting the IPython Scheduler decide which engine should do the work:"
     ]
    },
    {
     "cell_type": "code",
     "collapsed": false,
     "input": [
      "e0.apply_sync(os.getpid)"
     ],
     "language": "python",
     "outputs": [
      {
       "output_type": "pyout",
       "prompt_number": 108,
       "text": [
        "48459"
       ]
      }
     ],
     "prompt_number": 108
    },
    {
     "cell_type": "code",
     "collapsed": false,
     "input": [
      "for i in range(2*len(rc.ids)):",
      "    print lview.apply_sync(os.getpid)"
     ],
     "language": "python",
     "outputs": [
      {
       "output_type": "stream",
       "stream": "stdout",
       "text": [
        "48459",
        "48461",
        "48462",
        "48460",
        "48459",
        "48461",
        "48462"
       ]
      },
      {
       "output_type": "stream",
       "stream": "stdout",
       "text": [
        "",
        "48460"
       ]
      }
     ],
     "prompt_number": 109
    },
    {
     "cell_type": "markdown",
     "source": [
      "# Map",
      "",
      "The LoadBalancedView also has a load-balanced version of the builtin `map()`"
     ]
    },
    {
     "cell_type": "code",
     "collapsed": false,
     "input": [
      "lview.block = True",
      "",
      "serial_result   =       map(lambda x:x**10, range(32))",
      "parallel_result = lview.map(lambda x:x**10, range(32))",
      "",
      "serial_result==parallel_result"
     ],
     "language": "python",
     "outputs": [
      {
       "output_type": "pyout",
       "prompt_number": 110,
       "text": [
        "True"
       ]
      }
     ],
     "prompt_number": 110
    },
    {
     "cell_type": "markdown",
     "source": [
      "Just like `apply()`, you can use non-blocking map with `block=False` or `map_async`"
     ]
    },
    {
     "cell_type": "code",
     "collapsed": true,
     "input": [
      "amr = lview.map_async(lambda x:x**10, range(32))"
     ],
     "language": "python",
     "outputs": []
    },
    {
     "cell_type": "markdown",
     "source": [
      "## Map results are iterable!",
      "",
      "AsyncResults with multiple results are actually iterable before their",
      "results arrive.",
      "",
      "This means that you can perform map/reduce operations on elements as",
      "they come in:"
     ]
    },
    {
     "cell_type": "code",
     "collapsed": false,
     "input": [
      "# scatter 'id', so id=0,1,2 on engines 0,1,2",
      "dv = rc[:]",
      "dv.scatter('id', rc.ids, flatten=True)",
      "print dv['id']",
      "",
      "# create a Reference to `id`. This will be a different value on each engine",
      "ref = parallel.Reference('id')",
      "",
      "tic = time.time()",
      "ar = dv.apply(time.sleep, ref)",
      "for i,r in enumerate(ar):",
      "    print \"%i: %.3f\"%(i, time.time()-tic)"
     ],
     "language": "python",
     "outputs": [
      {
       "output_type": "stream",
       "stream": "stdout",
       "text": [
        "[0, 1, 2, 3]",
        "0: 0.010",
        "1: 1.008"
       ]
      },
      {
       "output_type": "stream",
       "stream": "stdout",
       "text": [
        "",
        "2: 2.010"
       ]
      },
      {
       "output_type": "stream",
       "stream": "stdout",
       "text": [
        "",
        "3: 3.013"
       ]
      },
      {
       "output_type": "stream",
       "stream": "stdout",
       "text": []
      }
     ],
     "prompt_number": 98
    },
    {
     "cell_type": "markdown",
     "source": [
      "Now we submit a bunch of tasks of increasing magnitude, and",
      "watch where they happen, iterating through the results as they come."
     ]
    },
    {
     "cell_type": "code",
     "collapsed": false,
     "input": [
      "def sleep_here(t):",
      "    \"\"\"sleep here for a time, return where it happened\"\"\"",
      "    import time",
      "    time.sleep(t)",
      "    return id",
      "",
      "amr = lview.map(sleep_here, [.01*t for t in range(100)])",
      "tic = time.time()",
      "for i,r in enumerate(amr):",
      "    print \"task %i on engine %i: %.3f\" % (i, r, time.time()-tic)"
     ],
     "language": "python",
     "outputs": [
      {
       "output_type": "stream",
       "stream": "stdout",
       "text": [
        "task 0 on engine 2: 0.001",
        "task 1 on engine 1: 0.001",
        "task 2 on engine 0: 0.001",
        "task 3 on engine 3: 0.001",
        "task 4 on engine 2: 0.001",
        "task 5 on engine 1: 0.002",
        "task 6 on engine 0: 0.004",
        "task 7 on engine 3: 0.005",
        "task 8 on engine 2: 0.005",
        "task 9 on engine 1: 0.005",
        "task 10 on engine 0: 0.026",
        "task 11 on engine 3: 0.032",
        "task 12 on engine 2: 0.077"
       ]
      },
      {
       "output_type": "stream",
       "stream": "stdout",
       "text": [
        "",
        "task 13 on engine 1: 0.104",
        "task 14 on engine 0: 0.149"
       ]
      },
      {
       "output_type": "stream",
       "stream": "stdout",
       "text": [
        "",
        "task 15 on engine 3: 0.183",
        "task 16 on engine 2: 0.231"
       ]
      },
      {
       "output_type": "stream",
       "stream": "stdout",
       "text": [
        "",
        "task 17 on engine 1: 0.276",
        "task 18 on engine 0: 0.332"
       ]
      },
      {
       "output_type": "stream",
       "stream": "stdout",
       "text": [
        "",
        "task 19 on engine 3: 0.375",
        "task 20 on engine 2: 0.433"
       ]
      },
      {
       "output_type": "stream",
       "stream": "stdout",
       "text": [
        "",
        "task 21 on engine 1: 0.489"
       ]
      },
      {
       "output_type": "stream",
       "stream": "stdout",
       "text": [
        "",
        "task 22 on engine 0: 0.555"
       ]
      },
      {
       "output_type": "stream",
       "stream": "stdout",
       "text": [
        "",
        "task 23 on engine 3: 0.608"
       ]
      },
      {
       "output_type": "stream",
       "stream": "stdout",
       "text": [
        "",
        "task 24 on engine 2: 0.677"
       ]
      },
      {
       "output_type": "stream",
       "stream": "stdout",
       "text": [
        "",
        "task 25 on engine 1: 0.754"
       ]
      },
      {
       "output_type": "stream",
       "stream": "stdout",
       "text": [
        "",
        "task 26 on engine 0: 0.833"
       ]
      },
      {
       "output_type": "stream",
       "stream": "stdout",
       "text": [
        "",
        "task 27 on engine 3: 0.883",
        "task 28 on engine 2: 0.959"
       ]
      },
      {
       "output_type": "stream",
       "stream": "stdout",
       "text": [
        "",
        "task 29 on engine 1: 1.040"
       ]
      },
      {
       "output_type": "stream",
       "stream": "stdout",
       "text": [
        "",
        "task 30 on engine 0: 1.126"
       ]
      },
      {
       "output_type": "stream",
       "stream": "stdout",
       "text": [
        "",
        "task 31 on engine 3: 1.202"
       ]
      },
      {
       "output_type": "stream",
       "stream": "stdout",
       "text": [
        "",
        "task 32 on engine 2: 1.293"
       ]
      },
      {
       "output_type": "stream",
       "stream": "stdout",
       "text": [
        "",
        "task 33 on engine 1: 1.374"
       ]
      },
      {
       "output_type": "stream",
       "stream": "stdout",
       "text": [
        "",
        "task 34 on engine 0: 1.492"
       ]
      },
      {
       "output_type": "stream",
       "stream": "stdout",
       "text": [
        "",
        "task 35 on engine 3: 1.569"
       ]
      },
      {
       "output_type": "stream",
       "stream": "stdout",
       "text": [
        "",
        "task 36 on engine 2: 1.646"
       ]
      },
      {
       "output_type": "stream",
       "stream": "stdout",
       "text": [
        "",
        "task 37 on engine 1: 1.742"
       ]
      },
      {
       "output_type": "stream",
       "stream": "stdout",
       "text": [
        "",
        "task 38 on engine 0: 1.861"
       ]
      },
      {
       "output_type": "stream",
       "stream": "stdout",
       "text": [
        "",
        "task 39 on engine 3: 1.953"
       ]
      },
      {
       "output_type": "stream",
       "stream": "stdout",
       "text": [
        "",
        "task 40 on engine 2: 2.049"
       ]
      },
      {
       "output_type": "stream",
       "stream": "stdout",
       "text": [
        "",
        "task 41 on engine 1: 2.154"
       ]
      },
      {
       "output_type": "stream",
       "stream": "stdout",
       "text": [
        "",
        "task 42 on engine 0: 2.287"
       ]
      },
      {
       "output_type": "stream",
       "stream": "stdout",
       "text": [
        "",
        "task 43 on engine 3: 2.386"
       ]
      },
      {
       "output_type": "stream",
       "stream": "stdout",
       "text": [
        "",
        "task 44 on engine 2: 2.493"
       ]
      },
      {
       "output_type": "stream",
       "stream": "stdout",
       "text": [
        "",
        "task 45 on engine 1: 2.608"
       ]
      },
      {
       "output_type": "stream",
       "stream": "stdout",
       "text": [
        "",
        "task 46 on engine 0: 2.760"
       ]
      },
      {
       "output_type": "stream",
       "stream": "stdout",
       "text": [
        "",
        "task 47 on engine 3: 2.863"
       ]
      },
      {
       "output_type": "stream",
       "stream": "stdout",
       "text": [
        "",
        "task 48 on engine 2: 2.989"
       ]
      },
      {
       "output_type": "stream",
       "stream": "stdout",
       "text": [
        "",
        "task 49 on engine 1: 3.113"
       ]
      },
      {
       "output_type": "stream",
       "stream": "stdout",
       "text": [
        "",
        "task 50 on engine 0: 3.266"
       ]
      },
      {
       "output_type": "stream",
       "stream": "stdout",
       "text": [
        "",
        "task 51 on engine 3: 3.379"
       ]
      },
      {
       "output_type": "stream",
       "stream": "stdout",
       "text": [
        "",
        "task 52 on engine 2: 3.503"
       ]
      },
      {
       "output_type": "stream",
       "stream": "stdout",
       "text": [
        "",
        "task 53 on engine 1: 3.640"
       ]
      },
      {
       "output_type": "stream",
       "stream": "stdout",
       "text": [
        "",
        "task 54 on engine 0: 3.806"
       ]
      },
      {
       "output_type": "stream",
       "stream": "stdout",
       "text": [
        "",
        "task 55 on engine 3: 3.938"
       ]
      },
      {
       "output_type": "stream",
       "stream": "stdout",
       "text": [
        "",
        "task 56 on engine 2: 4.070"
       ]
      },
      {
       "output_type": "stream",
       "stream": "stdout",
       "text": [
        "",
        "task 57 on engine 1: 4.213"
       ]
      },
      {
       "output_type": "stream",
       "stream": "stdout",
       "text": [
        "",
        "task 58 on engine 0: 4.384"
       ]
      },
      {
       "output_type": "stream",
       "stream": "stdout",
       "text": [
        "",
        "task 59 on engine 3: 4.523"
       ]
      },
      {
       "output_type": "stream",
       "stream": "stdout",
       "text": [
        "",
        "task 60 on engine 2: 4.670"
       ]
      },
      {
       "output_type": "stream",
       "stream": "stdout",
       "text": [
        "",
        "task 61 on engine 1: 4.829"
       ]
      },
      {
       "output_type": "stream",
       "stream": "stdout",
       "text": [
        "",
        "task 62 on engine 0: 5.021"
       ]
      },
      {
       "output_type": "stream",
       "stream": "stdout",
       "text": [
        "",
        "task 63 on engine 3: 5.160"
       ]
      },
      {
       "output_type": "stream",
       "stream": "stdout",
       "text": [
        "",
        "task 64 on engine 2: 5.315"
       ]
      },
      {
       "output_type": "stream",
       "stream": "stdout",
       "text": [
        "",
        "task 65 on engine 1: 5.483"
       ]
      },
      {
       "output_type": "stream",
       "stream": "stdout",
       "text": [
        "",
        "task 66 on engine 0: 5.670"
       ]
      },
      {
       "output_type": "stream",
       "stream": "stdout",
       "text": [
        "",
        "task 67 on engine 3: 5.838"
       ]
      },
      {
       "output_type": "stream",
       "stream": "stdout",
       "text": [
        "",
        "task 68 on engine 2: 5.997"
       ]
      },
      {
       "output_type": "stream",
       "stream": "stdout",
       "text": [
        "",
        "task 69 on engine 1: 6.182"
       ]
      },
      {
       "output_type": "stream",
       "stream": "stdout",
       "text": [
        "",
        "task 70 on engine 0: 6.380"
       ]
      },
      {
       "output_type": "stream",
       "stream": "stdout",
       "text": [
        "",
        "task 71 on engine 3: 6.546"
       ]
      },
      {
       "output_type": "stream",
       "stream": "stdout",
       "text": [
        "",
        "task 72 on engine 2: 6.718"
       ]
      },
      {
       "output_type": "stream",
       "stream": "stdout",
       "text": [
        "",
        "task 73 on engine 1: 6.912"
       ]
      },
      {
       "output_type": "stream",
       "stream": "stdout",
       "text": [
        "",
        "task 74 on engine 0: 7.117"
       ]
      },
      {
       "output_type": "stream",
       "stream": "stdout",
       "text": [
        "",
        "task 75 on engine 3: 7.295"
       ]
      },
      {
       "output_type": "stream",
       "stream": "stdout",
       "text": [
        "",
        "task 76 on engine 2: 7.481"
       ]
      },
      {
       "output_type": "stream",
       "stream": "stdout",
       "text": [
        "",
        "task 77 on engine 1: 7.680"
       ]
      },
      {
       "output_type": "stream",
       "stream": "stdout",
       "text": [
        "",
        "task 78 on engine 0: 7.900"
       ]
      },
      {
       "output_type": "stream",
       "stream": "stdout",
       "text": [
        "",
        "task 79 on engine 3: 8.087"
       ]
      },
      {
       "output_type": "stream",
       "stream": "stdout",
       "text": [
        "",
        "task 80 on engine 2: 8.284"
       ]
      },
      {
       "output_type": "stream",
       "stream": "stdout",
       "text": [
        "",
        "task 81 on engine 1: 8.493"
       ]
      },
      {
       "output_type": "stream",
       "stream": "stdout",
       "text": [
        "",
        "task 82 on engine 0: 8.724"
       ]
      },
      {
       "output_type": "stream",
       "stream": "stdout",
       "text": [
        "",
        "task 83 on engine 3: 8.935"
       ]
      },
      {
       "output_type": "stream",
       "stream": "stdout",
       "text": [
        "",
        "task 84 on engine 2: 9.155"
       ]
      },
      {
       "output_type": "stream",
       "stream": "stdout",
       "text": [
        "",
        "task 85 on engine 1: 9.344"
       ]
      },
      {
       "output_type": "stream",
       "stream": "stdout",
       "text": [
        "",
        "task 86 on engine 0: 9.586"
       ]
      },
      {
       "output_type": "stream",
       "stream": "stdout",
       "text": [
        "",
        "task 87 on engine 3: 9.796"
       ]
      },
      {
       "output_type": "stream",
       "stream": "stdout",
       "text": [
        "",
        "task 88 on engine 2: 10.021"
       ]
      },
      {
       "output_type": "stream",
       "stream": "stdout",
       "text": [
        "",
        "task 89 on engine 1: 10.238"
       ]
      },
      {
       "output_type": "stream",
       "stream": "stdout",
       "text": [
        "",
        "task 90 on engine 0: 10.489"
       ]
      },
      {
       "output_type": "stream",
       "stream": "stdout",
       "text": [
        "",
        "task 91 on engine 3: 10.709"
       ]
      },
      {
       "output_type": "stream",
       "stream": "stdout",
       "text": [
        "",
        "task 92 on engine 2: 10.943"
       ]
      },
      {
       "output_type": "stream",
       "stream": "stdout",
       "text": [
        "",
        "task 93 on engine 1: 11.181"
       ]
      },
      {
       "output_type": "stream",
       "stream": "stdout",
       "text": [
        "",
        "task 94 on engine 0: 11.438"
       ]
      },
      {
       "output_type": "stream",
       "stream": "stdout",
       "text": [
        "",
        "task 95 on engine 3: 11.665"
       ]
      },
      {
       "output_type": "stream",
       "stream": "stdout",
       "text": [
        "",
        "task 96 on engine 2: 11.906"
       ]
      },
      {
       "output_type": "stream",
       "stream": "stdout",
       "text": [
        "",
        "task 97 on engine 1: 12.158"
       ]
      },
      {
       "output_type": "stream",
       "stream": "stdout",
       "text": [
        "",
        "task 98 on engine 0: 12.425"
       ]
      },
      {
       "output_type": "stream",
       "stream": "stdout",
       "text": [
        "",
        "task 99 on engine 3: 12.659"
       ]
      },
      {
       "output_type": "stream",
       "stream": "stdout",
       "text": []
      }
     ],
     "prompt_number": 99
    },
    {
     "cell_type": "markdown",
     "source": [
      "Unlike `DirectView.map()`, which always results in one task per engine,",
      "LoadBalance map defaults to one task per *item* in the sequence.  This",
      "can be changed by specifying the `chunksize` keyword arg."
     ]
    },
    {
     "cell_type": "code",
     "collapsed": false,
     "input": [
      "amr = lview.map(sleep_here, [.01*t for t in range(100)], chunksize=4)",
      "tic = time.time()",
      "for i,r in enumerate(amr):",
      "    print \"task %i on engine %i: %.3f\"%(i, r, time.time()-tic)"
     ],
     "language": "python",
     "outputs": [
      {
       "output_type": "stream",
       "stream": "stdout",
       "text": [
        "task 0 on engine 2: 0.084",
        "task 1 on engine 2: 0.084",
        "task 2 on engine 2: 0.084",
        "task 3 on engine 2: 0.084",
        "task 4 on engine 1: 0.245"
       ]
      },
      {
       "output_type": "stream",
       "stream": "stdout",
       "text": [
        "",
        "task 5 on engine 1: 0.246",
        "task 6 on engine 1: 0.246",
        "task 7 on engine 1: 0.246",
        "task 8 on engine 0: 0.411"
       ]
      },
      {
       "output_type": "stream",
       "stream": "stdout",
       "text": [
        "",
        "task 9 on engine 0: 0.411",
        "task 10 on engine 0: 0.412",
        "task 11 on engine 0: 0.412",
        "task 12 on engine 3: 0.576"
       ]
      },
      {
       "output_type": "stream",
       "stream": "stdout",
       "text": [
        "",
        "task 13 on engine 3: 0.577",
        "task 14 on engine 3: 0.577",
        "task 15 on engine 3: 0.577",
        "task 16 on engine 2: 0.790"
       ]
      },
      {
       "output_type": "stream",
       "stream": "stdout",
       "text": [
        "",
        "task 17 on engine 2: 0.790",
        "task 18 on engine 2: 0.790",
        "task 19 on engine 2: 0.791",
        "task 20 on engine 1: 1.114"
       ]
      },
      {
       "output_type": "stream",
       "stream": "stdout",
       "text": [
        "",
        "task 21 on engine 1: 1.114",
        "task 22 on engine 1: 1.114",
        "task 23 on engine 1: 1.115",
        "task 24 on engine 0: 1.436"
       ]
      },
      {
       "output_type": "stream",
       "stream": "stdout",
       "text": [
        "",
        "task 25 on engine 0: 1.436",
        "task 26 on engine 0: 1.436",
        "task 27 on engine 0: 1.436",
        "task 28 on engine 3: 1.762"
       ]
      },
      {
       "output_type": "stream",
       "stream": "stdout",
       "text": [
        "",
        "task 29 on engine 3: 1.763",
        "task 30 on engine 3: 1.763",
        "task 31 on engine 3: 1.763",
        "task 32 on engine 2: 2.135"
       ]
      },
      {
       "output_type": "stream",
       "stream": "stdout",
       "text": [
        "",
        "task 33 on engine 2: 2.136",
        "task 34 on engine 2: 2.136",
        "task 35 on engine 2: 2.136",
        "task 36 on engine 1: 2.616"
       ]
      },
      {
       "output_type": "stream",
       "stream": "stdout",
       "text": [
        "",
        "task 37 on engine 1: 2.616",
        "task 38 on engine 1: 2.617",
        "task 39 on engine 1: 2.617",
        "task 40 on engine 0: 3.101"
       ]
      },
      {
       "output_type": "stream",
       "stream": "stdout",
       "text": [
        "",
        "task 41 on engine 0: 3.101",
        "task 42 on engine 0: 3.101",
        "task 43 on engine 0: 3.102",
        "task 44 on engine 3: 3.588"
       ]
      },
      {
       "output_type": "stream",
       "stream": "stdout",
       "text": [
        "",
        "task 45 on engine 3: 3.589",
        "task 46 on engine 3: 3.589",
        "task 47 on engine 3: 3.589",
        "task 48 on engine 2: 4.121"
       ]
      },
      {
       "output_type": "stream",
       "stream": "stdout",
       "text": [
        "",
        "task 49 on engine 2: 4.122",
        "task 50 on engine 2: 4.122",
        "task 51 on engine 2: 4.122",
        "task 52 on engine 1: 4.763"
       ]
      },
      {
       "output_type": "stream",
       "stream": "stdout",
       "text": [
        "",
        "task 53 on engine 1: 4.763",
        "task 54 on engine 1: 4.763",
        "task 55 on engine 1: 4.764",
        "task 56 on engine 0: 5.404"
       ]
      },
      {
       "output_type": "stream",
       "stream": "stdout",
       "text": [
        "",
        "task 57 on engine 0: 5.405",
        "task 58 on engine 0: 5.405",
        "task 59 on engine 0: 5.405",
        "task 60 on engine 3: 6.053"
       ]
      },
      {
       "output_type": "stream",
       "stream": "stdout",
       "text": [
        "",
        "task 61 on engine 3: 6.054",
        "task 62 on engine 3: 6.054",
        "task 63 on engine 3: 6.054",
        "task 64 on engine 2: 6.746"
       ]
      },
      {
       "output_type": "stream",
       "stream": "stdout",
       "text": [
        "",
        "task 65 on engine 2: 6.746",
        "task 66 on engine 2: 6.746",
        "task 67 on engine 2: 6.747",
        "task 68 on engine 1: 7.545"
       ]
      },
      {
       "output_type": "stream",
       "stream": "stdout",
       "text": [
        "",
        "task 69 on engine 1: 7.546",
        "task 70 on engine 1: 7.546",
        "task 71 on engine 1: 7.546",
        "task 72 on engine 0: 8.350"
       ]
      },
      {
       "output_type": "stream",
       "stream": "stdout",
       "text": [
        "",
        "task 73 on engine 0: 8.351",
        "task 74 on engine 0: 8.351",
        "task 75 on engine 0: 8.351",
        "task 76 on engine 3: 9.174"
       ]
      },
      {
       "output_type": "stream",
       "stream": "stdout",
       "text": [
        "",
        "task 77 on engine 3: 9.175",
        "task 78 on engine 3: 9.175",
        "task 79 on engine 3: 9.175",
        "task 80 on engine 2: 10.014"
       ]
      },
      {
       "output_type": "stream",
       "stream": "stdout",
       "text": [
        "",
        "task 81 on engine 2: 10.014",
        "task 82 on engine 2: 10.014",
        "task 83 on engine 2: 10.015",
        "task 84 on engine 1: 10.983"
       ]
      },
      {
       "output_type": "stream",
       "stream": "stdout",
       "text": [
        "",
        "task 85 on engine 1: 10.984",
        "task 86 on engine 1: 10.984",
        "task 87 on engine 1: 10.985",
        "task 88 on engine 0: 11.938"
       ]
      },
      {
       "output_type": "stream",
       "stream": "stdout",
       "text": [
        "",
        "task 89 on engine 0: 11.938",
        "task 90 on engine 0: 11.938",
        "task 91 on engine 0: 11.938",
        "task 92 on engine 3: 12.908"
       ]
      },
      {
       "output_type": "stream",
       "stream": "stdout",
       "text": [
        "",
        "task 93 on engine 3: 12.908",
        "task 94 on engine 3: 12.908",
        "task 95 on engine 3: 12.909",
        "task 96 on engine 2: 13.926"
       ]
      },
      {
       "output_type": "stream",
       "stream": "stdout",
       "text": [
        "",
        "task 97 on engine 2: 13.927",
        "task 98 on engine 2: 13.927",
        "task 99 on engine 2: 13.927"
       ]
      }
     ],
     "prompt_number": 100
    },
    {
     "cell_type": "code",
     "collapsed": true,
     "input": [],
     "language": "python",
     "outputs": []
    },
    {
     "cell_type": "markdown",
     "source": [
      "# Excercise",
      "",
      "## Parallelize nested loops",
      "",
      "Often we want to run a function with a variety of combinations of arguments.",
      "A useful skill is the ability to express a nested loop in terms of a map."
     ]
    },
    {
     "cell_type": "code",
     "collapsed": false,
     "input": [
      "def area(w,h):",
      "    return w*h",
      "",
      "",
      "widths = range(1,4)",
      "heights = range(6,10)",
      "",
      "areas = []",
      "for w in widths:",
      "    for h in heights:",
      "        areas.append(area(w,h))",
      "areas"
     ],
     "language": "python",
     "outputs": [
      {
       "output_type": "pyout",
       "prompt_number": 36,
       "text": [
        "[6, 7, 8, 9, 12, 14, 16, 18, 18, 21, 24, 27]"
       ]
      }
     ],
     "prompt_number": 36
    },
    {
     "cell_type": "markdown",
     "source": [
      "<button onclick=\"$('#hint').toggle();\">hint</button>",
      "<div id=\"hint\">",
      "`itertools.product` and `zip` will be helpful.",
      "</div>",
      "<script type=\"text/javascript\">",
      "    $('#hint').hide();",
      "</script>"
     ]
    },
    {
     "cell_type": "code",
     "collapsed": true,
     "input": [
      "%loadpy soln/nestedloop.py"
     ],
     "language": "python",
     "outputs": [],
     "prompt_number": 45
    },
    {
     "cell_type": "markdown",
     "source": [
      "Validate the result:"
     ]
    },
    {
     "cell_type": "code",
     "collapsed": false,
     "input": [
      "areas == ar.get()"
     ],
     "language": "python",
     "outputs": [
      {
       "output_type": "pyout",
       "prompt_number": 48,
       "text": [
        "True"
       ]
      }
     ],
     "prompt_number": 48
    }
   ]
  }
 ]
}