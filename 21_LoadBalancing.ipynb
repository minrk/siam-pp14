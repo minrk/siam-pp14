{
 "metadata": {
  "name": "21_LoadBalancing"
 },
 "nbformat": 3,
 "nbformat_minor": 0,
 "worksheets": [
  {
   "cells": [
    {
     "cell_type": "markdown",
     "metadata": {},
     "source": [
      "# Load-balancing with IPython.parallel"
     ]
    },
    {
     "cell_type": "code",
     "collapsed": false,
     "input": [
      "import os,sys,time\n",
      "import numpy as np\n",
      "\n",
      "from IPython.core.display import display\n",
      "from IPython import parallel\n",
      "rc = parallel.Client()\n",
      "dview = rc[:]"
     ],
     "language": "python",
     "metadata": {},
     "outputs": [],
     "prompt_number": 1
    },
    {
     "cell_type": "markdown",
     "metadata": {},
     "source": [
      "Create a LoadBalancedView"
     ]
    },
    {
     "cell_type": "code",
     "collapsed": false,
     "input": [
      "lview = rc.load_balanced_view()\n",
      "lview"
     ],
     "language": "python",
     "metadata": {},
     "outputs": [
      {
       "output_type": "pyout",
       "prompt_number": 2,
       "text": [
        "<LoadBalancedView None>"
       ]
      }
     ],
     "prompt_number": 2
    },
    {
     "cell_type": "markdown",
     "metadata": {},
     "source": [
      "LoadBalancedViews behave very much like a DirectView on a single engine:\n",
      "\n",
      "Each call to `apply()` results in a single remote computation,\n",
      "and the result (or AsyncResult) of that call is returned directly,\n",
      "rather than in a list, as in the multi-engine DirectView."
     ]
    },
    {
     "cell_type": "code",
     "collapsed": true,
     "input": [
      "e0 = rc[0]"
     ],
     "language": "python",
     "metadata": {},
     "outputs": [],
     "prompt_number": 3
    },
    {
     "cell_type": "code",
     "collapsed": false,
     "input": [
      "from numpy.linalg import norm\n",
      "A = np.random.random(1024)\n",
      "\n",
      "e0.apply_sync(norm, A, 2)"
     ],
     "language": "python",
     "metadata": {},
     "outputs": [
      {
       "output_type": "pyout",
       "prompt_number": 4,
       "text": [
        "19.0594150886775"
       ]
      }
     ],
     "prompt_number": 4
    },
    {
     "cell_type": "code",
     "collapsed": false,
     "input": [
      "lview.apply_sync(norm, A, 2)"
     ],
     "language": "python",
     "metadata": {},
     "outputs": [
      {
       "output_type": "pyout",
       "prompt_number": 5,
       "text": [
        "19.0594150886775"
       ]
      }
     ],
     "prompt_number": 5
    },
    {
     "cell_type": "markdown",
     "metadata": {},
     "source": [
      "However, unlike the DirectView of a single engine, you are letting the IPython Scheduler decide which engine should do the work:"
     ]
    },
    {
     "cell_type": "code",
     "collapsed": false,
     "input": [
      "e0.apply_sync(os.getpid)"
     ],
     "language": "python",
     "metadata": {},
     "outputs": [
      {
       "output_type": "pyout",
       "prompt_number": 6,
       "text": [
        "27415"
       ]
      }
     ],
     "prompt_number": 6
    },
    {
     "cell_type": "code",
     "collapsed": false,
     "input": [
      "for i in range(2*len(rc.ids)):\n",
      "    print lview.apply_sync(os.getpid)"
     ],
     "language": "python",
     "metadata": {},
     "outputs": [
      {
       "output_type": "stream",
       "stream": "stdout",
       "text": [
        "27416\n",
        "27417\n",
        "27418\n",
        "27415\n",
        "27416\n",
        "27417\n",
        "27418\n",
        "27415"
       ]
      },
      {
       "output_type": "stream",
       "stream": "stdout",
       "text": [
        "\n"
       ]
      }
     ],
     "prompt_number": 7
    },
    {
     "cell_type": "markdown",
     "metadata": {},
     "source": [
      "# Map\n",
      "\n",
      "The LoadBalancedView also has a load-balanced version of the builtin `map()`"
     ]
    },
    {
     "cell_type": "code",
     "collapsed": false,
     "input": [
      "lview.block = True\n",
      "\n",
      "serial_result   =       map(lambda x:x**10, range(32))\n",
      "parallel_result = lview.map(lambda x:x**10, range(32))\n",
      "\n",
      "serial_result==parallel_result"
     ],
     "language": "python",
     "metadata": {},
     "outputs": [
      {
       "output_type": "pyout",
       "prompt_number": 8,
       "text": [
        "True"
       ]
      }
     ],
     "prompt_number": 8
    },
    {
     "cell_type": "markdown",
     "metadata": {},
     "source": [
      "Just like `apply()`, you can use non-blocking map with `block=False` or `map_async`"
     ]
    },
    {
     "cell_type": "code",
     "collapsed": true,
     "input": [
      "amr = lview.map_async(lambda x:x**10, range(32))"
     ],
     "language": "python",
     "metadata": {},
     "outputs": [],
     "prompt_number": 9
    },
    {
     "cell_type": "markdown",
     "metadata": {},
     "source": [
      "## Map results are iterable!\n",
      "\n",
      "AsyncResults with multiple results are actually iterable before their\n",
      "results arrive.\n",
      "\n",
      "This means that you can perform map/reduce operations on elements as\n",
      "they come in:"
     ]
    },
    {
     "cell_type": "code",
     "collapsed": false,
     "input": [
      "lview.block = False"
     ],
     "language": "python",
     "metadata": {},
     "outputs": [],
     "prompt_number": 14
    },
    {
     "cell_type": "code",
     "collapsed": false,
     "input": [
      "# scatter 'id', so id=0,1,2 on engines 0,1,2\n",
      "dv = rc[:]\n",
      "dv.scatter('id', rc.ids, flatten=True)\n",
      "print dv['id']\n",
      "\n",
      "# create a Reference to `id`. This will be a different value on each engine\n",
      "ref = parallel.Reference('id')\n",
      "\n",
      "tic = time.time()\n",
      "ar = dv.apply(time.sleep, ref)\n",
      "for i,r in enumerate(ar):\n",
      "    print \"%i: %.3f\"%(i, time.time()-tic)"
     ],
     "language": "python",
     "metadata": {},
     "outputs": [
      {
       "output_type": "stream",
       "stream": "stdout",
       "text": [
        "[0, 1, 2, 3]\n",
        "0: 0.009\n",
        "1: 1.007"
       ]
      },
      {
       "output_type": "stream",
       "stream": "stdout",
       "text": [
        "\n",
        "2: 2.009"
       ]
      },
      {
       "output_type": "stream",
       "stream": "stdout",
       "text": [
        "\n",
        "3: 3.010"
       ]
      },
      {
       "output_type": "stream",
       "stream": "stdout",
       "text": [
        "\n"
       ]
      }
     ],
     "prompt_number": 15
    },
    {
     "cell_type": "markdown",
     "metadata": {},
     "source": [
      "Now we submit a bunch of tasks of increasing magnitude, and\n",
      "watch where they happen, iterating through the results as they come."
     ]
    },
    {
     "cell_type": "code",
     "collapsed": false,
     "input": [
      "def sleep_here(t):\n",
      "    \"\"\"sleep here for a time, return where it happened\"\"\"\n",
      "    import time\n",
      "    time.sleep(t)\n",
      "    return id\n",
      "\n",
      "amr = lview.map(sleep_here, [.02*t for t in range(100)])\n",
      "tic = time.time()\n",
      "for i,r in enumerate(amr):\n",
      "    print \"task %i on engine %i: %.3f\" % (i, r, time.time()-tic)\n"
     ],
     "language": "python",
     "metadata": {},
     "outputs": [
      {
       "output_type": "stream",
       "stream": "stdout",
       "text": [
        "task 0 on engine 2: 0.001\n",
        "task 1 on engine 1: 0.036\n",
        "task 2 on engine 3: 0.075"
       ]
      },
      {
       "output_type": "stream",
       "stream": "stdout",
       "text": [
        "\n",
        "task 3 on engine 0: 0.115\n",
        "task 4 on engine 2: 0.169"
       ]
      },
      {
       "output_type": "stream",
       "stream": "stdout",
       "text": [
        "\n",
        "task 5 on engine 1: 0.218\n",
        "task 6 on engine 3: 0.277"
       ]
      },
      {
       "output_type": "stream",
       "stream": "stdout",
       "text": [
        "\n",
        "task 7 on engine 0: 0.337"
       ]
      },
      {
       "output_type": "stream",
       "stream": "stdout",
       "text": [
        "\n",
        "task 8 on engine 2: 0.412"
       ]
      },
      {
       "output_type": "stream",
       "stream": "stdout",
       "text": [
        "\n",
        "task 9 on engine 1: 0.481"
       ]
      },
      {
       "output_type": "stream",
       "stream": "stdout",
       "text": [
        "\n",
        "task 10 on engine 3: 0.561"
       ]
      },
      {
       "output_type": "stream",
       "stream": "stdout",
       "text": [
        "\n",
        "task 11 on engine 0: 0.641"
       ]
      },
      {
       "output_type": "stream",
       "stream": "stdout",
       "text": [
        "\n",
        "task 12 on engine 2: 0.736"
       ]
      },
      {
       "output_type": "stream",
       "stream": "stdout",
       "text": [
        "\n",
        "task 13 on engine 1: 0.826"
       ]
      },
      {
       "output_type": "stream",
       "stream": "stdout",
       "text": [
        "\n",
        "task 14 on engine 3: 0.923"
       ]
      },
      {
       "output_type": "stream",
       "stream": "stdout",
       "text": [
        "\n",
        "task 15 on engine 0: 1.024"
       ]
      },
      {
       "output_type": "stream",
       "stream": "stdout",
       "text": [
        "\n",
        "task 16 on engine 2: 1.139"
       ]
      },
      {
       "output_type": "stream",
       "stream": "stdout",
       "text": [
        "\n",
        "task 17 on engine 1: 1.247"
       ]
      },
      {
       "output_type": "stream",
       "stream": "stdout",
       "text": [
        "\n",
        "task 18 on engine 3: 1.367"
       ]
      },
      {
       "output_type": "stream",
       "stream": "stdout",
       "text": [
        "\n",
        "task 19 on engine 0: 1.486"
       ]
      },
      {
       "output_type": "stream",
       "stream": "stdout",
       "text": [
        "\n",
        "task 20 on engine 2: 1.621"
       ]
      },
      {
       "output_type": "stream",
       "stream": "stdout",
       "text": [
        "\n",
        "task 21 on engine 1: 1.751"
       ]
      },
      {
       "output_type": "stream",
       "stream": "stdout",
       "text": [
        "\n",
        "task 22 on engine 3: 1.890"
       ]
      },
      {
       "output_type": "stream",
       "stream": "stdout",
       "text": [
        "\n",
        "task 23 on engine 0: 2.030"
       ]
      },
      {
       "output_type": "stream",
       "stream": "stdout",
       "text": [
        "\n",
        "task 24 on engine 2: 2.185"
       ]
      },
      {
       "output_type": "stream",
       "stream": "stdout",
       "text": [
        "\n",
        "task 25 on engine 1: 2.333"
       ]
      },
      {
       "output_type": "stream",
       "stream": "stdout",
       "text": [
        "\n",
        "task 26 on engine 3: 2.493"
       ]
      },
      {
       "output_type": "stream",
       "stream": "stdout",
       "text": [
        "\n",
        "task 27 on engine 0: 2.653"
       ]
      },
      {
       "output_type": "stream",
       "stream": "stdout",
       "text": [
        "\n",
        "task 28 on engine 2: 2.828"
       ]
      },
      {
       "output_type": "stream",
       "stream": "stdout",
       "text": [
        "\n",
        "task 29 on engine 1: 2.997"
       ]
      },
      {
       "output_type": "stream",
       "stream": "stdout",
       "text": [
        "\n",
        "task 30 on engine 3: 3.176"
       ]
      },
      {
       "output_type": "stream",
       "stream": "stdout",
       "text": [
        "\n",
        "task 31 on engine 0: 3.356"
       ]
      },
      {
       "output_type": "stream",
       "stream": "stdout",
       "text": [
        "\n",
        "task 32 on engine 2: 3.552"
       ]
      },
      {
       "output_type": "stream",
       "stream": "stdout",
       "text": [
        "\n",
        "task 33 on engine 1: 3.740"
       ]
      },
      {
       "output_type": "stream",
       "stream": "stdout",
       "text": [
        "\n",
        "task 34 on engine 3: 3.940"
       ]
      },
      {
       "output_type": "stream",
       "stream": "stdout",
       "text": [
        "\n",
        "task 35 on engine 0: 4.140"
       ]
      },
      {
       "output_type": "stream",
       "stream": "stdout",
       "text": [
        "\n",
        "task 36 on engine 2: 4.355"
       ]
      },
      {
       "output_type": "stream",
       "stream": "stdout",
       "text": [
        "\n",
        "task 37 on engine 1: 4.564"
       ]
      },
      {
       "output_type": "stream",
       "stream": "stdout",
       "text": [
        "\n",
        "task 38 on engine 3: 4.783"
       ]
      },
      {
       "output_type": "stream",
       "stream": "stdout",
       "text": [
        "\n",
        "task 39 on engine 0: 5.003"
       ]
      },
      {
       "output_type": "stream",
       "stream": "stdout",
       "text": [
        "\n",
        "task 40 on engine 2: 5.238"
       ]
      },
      {
       "output_type": "stream",
       "stream": "stdout",
       "text": [
        "\n",
        "task 41 on engine 1: 5.467"
       ]
      },
      {
       "output_type": "stream",
       "stream": "stdout",
       "text": [
        "\n",
        "task 42 on engine 3: 5.707"
       ]
      },
      {
       "output_type": "stream",
       "stream": "stdout",
       "text": [
        "\n",
        "task 43 on engine 0: 5.946"
       ]
      },
      {
       "output_type": "stream",
       "stream": "stdout",
       "text": [
        "\n",
        "task 44 on engine 2: 6.201"
       ]
      },
      {
       "output_type": "stream",
       "stream": "stdout",
       "text": [
        "\n",
        "task 45 on engine 1: 6.451"
       ]
      },
      {
       "output_type": "stream",
       "stream": "stdout",
       "text": [
        "\n",
        "task 46 on engine 3: 6.709"
       ]
      },
      {
       "output_type": "stream",
       "stream": "stdout",
       "text": [
        "\n",
        "task 47 on engine 0: 6.970"
       ]
      },
      {
       "output_type": "stream",
       "stream": "stdout",
       "text": [
        "\n",
        "task 48 on engine 2: 7.244"
       ]
      },
      {
       "output_type": "stream",
       "stream": "stdout",
       "text": [
        "\n",
        "task 49 on engine 1: 7.515"
       ]
      },
      {
       "output_type": "stream",
       "stream": "stdout",
       "text": [
        "\n",
        "task 50 on engine 3: 7.792"
       ]
      },
      {
       "output_type": "stream",
       "stream": "stdout",
       "text": [
        "\n",
        "task 51 on engine 0: 8.073"
       ]
      },
      {
       "output_type": "stream",
       "stream": "stdout",
       "text": [
        "\n",
        "task 52 on engine 2: 8.369"
       ]
      },
      {
       "output_type": "stream",
       "stream": "stdout",
       "text": [
        "\n",
        "task 53 on engine 1: 8.658"
       ]
      },
      {
       "output_type": "stream",
       "stream": "stdout",
       "text": [
        "\n",
        "task 54 on engine 3: 8.954"
       ]
      },
      {
       "output_type": "stream",
       "stream": "stdout",
       "text": [
        "\n",
        "task 55 on engine 0: 9.256"
       ]
      },
      {
       "output_type": "stream",
       "stream": "stdout",
       "text": [
        "\n",
        "task 56 on engine 2: 9.572"
       ]
      },
      {
       "output_type": "stream",
       "stream": "stdout",
       "text": [
        "\n",
        "task 57 on engine 1: 9.882"
       ]
      },
      {
       "output_type": "stream",
       "stream": "stdout",
       "text": [
        "\n",
        "task 58 on engine 3: 10.198"
       ]
      },
      {
       "output_type": "stream",
       "stream": "stdout",
       "text": [
        "\n",
        "task 59 on engine 0: 10.520"
       ]
      },
      {
       "output_type": "stream",
       "stream": "stdout",
       "text": [
        "\n",
        "task 60 on engine 2: 10.855"
       ]
      },
      {
       "output_type": "stream",
       "stream": "stdout",
       "text": [
        "\n",
        "task 61 on engine 1: 11.184"
       ]
      },
      {
       "output_type": "stream",
       "stream": "stdout",
       "text": [
        "\n",
        "task 62 on engine 3: 11.521"
       ]
      },
      {
       "output_type": "stream",
       "stream": "stdout",
       "text": [
        "\n",
        "task 63 on engine 0: 11.863"
       ]
      },
      {
       "output_type": "stream",
       "stream": "stdout",
       "text": [
        "\n",
        "task 64 on engine 2: 12.219"
       ]
      },
      {
       "output_type": "stream",
       "stream": "stdout",
       "text": [
        "\n",
        "task 65 on engine 1: 12.567"
       ]
      },
      {
       "output_type": "stream",
       "stream": "stdout",
       "text": [
        "\n",
        "task 66 on engine 3: 12.923"
       ]
      },
      {
       "output_type": "stream",
       "stream": "stdout",
       "text": [
        "\n",
        "task 67 on engine 0: 13.286"
       ]
      },
      {
       "output_type": "stream",
       "stream": "stdout",
       "text": [
        "\n",
        "task 68 on engine 2: 13.662"
       ]
      },
      {
       "output_type": "stream",
       "stream": "stdout",
       "text": [
        "\n",
        "task 69 on engine 1: 14.030"
       ]
      },
      {
       "output_type": "stream",
       "stream": "stdout",
       "text": [
        "\n",
        "task 70 on engine 3: 14.407"
       ]
      },
      {
       "output_type": "stream",
       "stream": "stdout",
       "text": [
        "\n",
        "task 71 on engine 0: 14.789"
       ]
      },
      {
       "output_type": "stream",
       "stream": "stdout",
       "text": [
        "\n",
        "task 72 on engine 2: 15.185"
       ]
      },
      {
       "output_type": "stream",
       "stream": "stdout",
       "text": [
        "\n",
        "task 73 on engine 1: 15.573"
       ]
      },
      {
       "output_type": "stream",
       "stream": "stdout",
       "text": [
        "\n",
        "task 74 on engine 3: 15.970"
       ]
      },
      {
       "output_type": "stream",
       "stream": "stdout",
       "text": [
        "\n",
        "task 75 on engine 0: 16.373"
       ]
      },
      {
       "output_type": "stream",
       "stream": "stdout",
       "text": [
        "\n",
        "task 76 on engine 2: 16.789"
       ]
      },
      {
       "output_type": "stream",
       "stream": "stdout",
       "text": [
        "\n",
        "task 77 on engine 1: 17.196"
       ]
      },
      {
       "output_type": "stream",
       "stream": "stdout",
       "text": [
        "\n",
        "task 78 on engine 3: 17.614"
       ]
      },
      {
       "output_type": "stream",
       "stream": "stdout",
       "text": [
        "\n",
        "task 79 on engine 0: 18.037"
       ]
      },
      {
       "output_type": "stream",
       "stream": "stdout",
       "text": [
        "\n",
        "task 80 on engine 2: 18.471"
       ]
      },
      {
       "output_type": "stream",
       "stream": "stdout",
       "text": [
        "\n",
        "task 81 on engine 1: 18.900"
       ]
      },
      {
       "output_type": "stream",
       "stream": "stdout",
       "text": [
        "\n",
        "task 82 on engine 3: 19.338"
       ]
      },
      {
       "output_type": "stream",
       "stream": "stdout",
       "text": [
        "\n",
        "task 83 on engine 0: 19.780"
       ]
      },
      {
       "output_type": "stream",
       "stream": "stdout",
       "text": [
        "\n",
        "task 84 on engine 2: 20.236"
       ]
      },
      {
       "output_type": "stream",
       "stream": "stdout",
       "text": [
        "\n",
        "task 85 on engine 1: 20.683"
       ]
      },
      {
       "output_type": "stream",
       "stream": "stdout",
       "text": [
        "\n",
        "task 86 on engine 3: 21.141"
       ]
      },
      {
       "output_type": "stream",
       "stream": "stdout",
       "text": [
        "\n",
        "task 87 on engine 0: 21.603"
       ]
      },
      {
       "output_type": "stream",
       "stream": "stdout",
       "text": [
        "\n",
        "task 88 on engine 2: 22.080"
       ]
      },
      {
       "output_type": "stream",
       "stream": "stdout",
       "text": [
        "\n",
        "task 89 on engine 1: 22.547"
       ]
      },
      {
       "output_type": "stream",
       "stream": "stdout",
       "text": [
        "\n",
        "task 90 on engine 3: 23.024"
       ]
      },
      {
       "output_type": "stream",
       "stream": "stdout",
       "text": [
        "\n",
        "task 91 on engine 0: 23.505"
       ]
      },
      {
       "output_type": "stream",
       "stream": "stdout",
       "text": [
        "\n",
        "task 92 on engine 2: 24.002"
       ]
      },
      {
       "output_type": "stream",
       "stream": "stdout",
       "text": [
        "\n",
        "task 93 on engine 1: 24.491"
       ]
      },
      {
       "output_type": "stream",
       "stream": "stdout",
       "text": [
        "\n",
        "task 94 on engine 3: 24.989"
       ]
      },
      {
       "output_type": "stream",
       "stream": "stdout",
       "text": [
        "\n",
        "task 95 on engine 0: 25.490"
       ]
      },
      {
       "output_type": "stream",
       "stream": "stdout",
       "text": [
        "\n",
        "task 96 on engine 2: 25.490\n",
        "task 97 on engine 1: 25.490\n",
        "task 98 on engine 3: 25.491\n",
        "task 99 on engine 0: 25.491\n"
       ]
      }
     ],
     "prompt_number": 16
    },
    {
     "cell_type": "markdown",
     "metadata": {},
     "source": [
      "Unlike `DirectView.map()`, which always results in one task per engine,\n",
      "LoadBalance map defaults to one task per *item* in the sequence.  This\n",
      "can be changed by specifying the `chunksize` keyword arg."
     ]
    },
    {
     "cell_type": "code",
     "collapsed": false,
     "input": [
      "amr = lview.map(sleep_here, [.01*t for t in range(100)], chunksize=4)\n",
      "tic = time.time()\n",
      "for i,r in enumerate(amr):\n",
      "    print \"task %i on engine %i: %.3f\"%(i, r, time.time()-tic)"
     ],
     "language": "python",
     "metadata": {},
     "outputs": [
      {
       "output_type": "stream",
       "stream": "stdout",
       "text": [
        "task 0 on engine 2: 0.755\n",
        "task 1 on engine 2: 0.755\n",
        "task 2 on engine 2: 0.755\n",
        "task 3 on engine 2: 0.755\n",
        "task 4 on engine 1: 1.079"
       ]
      },
      {
       "output_type": "stream",
       "stream": "stdout",
       "text": [
        "\n",
        "task 5 on engine 1: 1.079\n",
        "task 6 on engine 1: 1.079\n",
        "task 7 on engine 1: 1.079\n",
        "task 8 on engine 3: 1.398"
       ]
      },
      {
       "output_type": "stream",
       "stream": "stdout",
       "text": [
        "\n",
        "task 9 on engine 3: 1.398\n",
        "task 10 on engine 3: 1.398\n",
        "task 11 on engine 3: 1.398\n",
        "task 12 on engine 0: 1.721"
       ]
      },
      {
       "output_type": "stream",
       "stream": "stdout",
       "text": [
        "\n",
        "task 13 on engine 0: 1.721\n",
        "task 14 on engine 0: 1.721\n",
        "task 15 on engine 0: 1.721\n",
        "task 16 on engine 2: 2.100"
       ]
      },
      {
       "output_type": "stream",
       "stream": "stdout",
       "text": [
        "\n",
        "task 17 on engine 2: 2.101\n",
        "task 18 on engine 2: 2.101\n",
        "task 19 on engine 2: 2.101\n",
        "task 20 on engine 1: 2.585"
       ]
      },
      {
       "output_type": "stream",
       "stream": "stdout",
       "text": [
        "\n",
        "task 21 on engine 1: 2.585\n",
        "task 22 on engine 1: 2.585\n",
        "task 23 on engine 1: 2.585\n",
        "task 24 on engine 3: 3.066"
       ]
      },
      {
       "output_type": "stream",
       "stream": "stdout",
       "text": [
        "\n",
        "task 25 on engine 3: 3.066\n",
        "task 26 on engine 3: 3.066\n",
        "task 27 on engine 3: 3.066\n",
        "task 28 on engine 0: 3.547"
       ]
      },
      {
       "output_type": "stream",
       "stream": "stdout",
       "text": [
        "\n",
        "task 29 on engine 0: 3.548\n",
        "task 30 on engine 0: 3.548\n",
        "task 31 on engine 0: 3.548\n",
        "task 32 on engine 2: 4.087"
       ]
      },
      {
       "output_type": "stream",
       "stream": "stdout",
       "text": [
        "\n",
        "task 33 on engine 2: 4.087\n",
        "task 34 on engine 2: 4.087\n",
        "task 35 on engine 2: 4.087\n",
        "task 36 on engine 1: 4.733"
       ]
      },
      {
       "output_type": "stream",
       "stream": "stdout",
       "text": [
        "\n",
        "task 37 on engine 1: 4.733\n",
        "task 38 on engine 1: 4.733\n",
        "task 39 on engine 1: 4.733\n",
        "task 40 on engine 3: 5.369"
       ]
      },
      {
       "output_type": "stream",
       "stream": "stdout",
       "text": [
        "\n",
        "task 41 on engine 3: 5.370\n",
        "task 42 on engine 3: 5.370\n",
        "task 43 on engine 3: 5.370\n",
        "task 44 on engine 0: 6.014"
       ]
      },
      {
       "output_type": "stream",
       "stream": "stdout",
       "text": [
        "\n",
        "task 45 on engine 0: 6.014\n",
        "task 46 on engine 0: 6.014\n",
        "task 47 on engine 0: 6.014\n",
        "task 48 on engine 2: 6.714"
       ]
      },
      {
       "output_type": "stream",
       "stream": "stdout",
       "text": [
        "\n",
        "task 49 on engine 2: 6.714\n",
        "task 50 on engine 2: 6.714\n",
        "task 51 on engine 2: 6.714\n",
        "task 52 on engine 1: 7.519"
       ]
      },
      {
       "output_type": "stream",
       "stream": "stdout",
       "text": [
        "\n",
        "task 53 on engine 1: 7.519\n",
        "task 54 on engine 1: 7.519\n",
        "task 55 on engine 1: 7.519\n",
        "task 56 on engine 3: 8.318"
       ]
      },
      {
       "output_type": "stream",
       "stream": "stdout",
       "text": [
        "\n",
        "task 57 on engine 3: 8.318\n",
        "task 58 on engine 3: 8.318\n",
        "task 59 on engine 3: 8.318\n",
        "task 60 on engine 0: 9.120"
       ]
      },
      {
       "output_type": "stream",
       "stream": "stdout",
       "text": [
        "\n",
        "task 61 on engine 0: 9.121\n",
        "task 62 on engine 0: 9.121\n",
        "task 63 on engine 0: 9.121\n",
        "task 64 on engine 2: 9.980"
       ]
      },
      {
       "output_type": "stream",
       "stream": "stdout",
       "text": [
        "\n",
        "task 65 on engine 2: 9.980\n",
        "task 66 on engine 2: 9.980\n",
        "task 67 on engine 2: 9.980\n",
        "task 68 on engine 1: 10.945"
       ]
      },
      {
       "output_type": "stream",
       "stream": "stdout",
       "text": [
        "\n",
        "task 69 on engine 1: 10.946\n",
        "task 70 on engine 1: 10.946\n",
        "task 71 on engine 1: 10.946\n",
        "task 72 on engine 3: 11.905"
       ]
      },
      {
       "output_type": "stream",
       "stream": "stdout",
       "text": [
        "\n",
        "task 73 on engine 3: 11.905\n",
        "task 74 on engine 3: 11.905\n",
        "task 75 on engine 3: 11.905\n",
        "task 76 on engine 0: 12.866"
       ]
      },
      {
       "output_type": "stream",
       "stream": "stdout",
       "text": [
        "\n",
        "task 77 on engine 0: 12.867\n",
        "task 78 on engine 0: 12.867\n",
        "task 79 on engine 0: 12.867\n",
        "task 80 on engine 2: 13.887"
       ]
      },
      {
       "output_type": "stream",
       "stream": "stdout",
       "text": [
        "\n",
        "task 81 on engine 2: 13.887\n",
        "task 82 on engine 2: 13.887\n",
        "task 83 on engine 2: 13.887\n",
        "task 84 on engine 1: 13.887\n",
        "task 85 on engine 1: 13.887\n",
        "task 86 on engine 1: 13.887\n",
        "task 87 on engine 1: 13.887\n",
        "task 88 on engine 3: 13.887\n",
        "task 89 on engine 3: 13.887\n",
        "task 90 on engine 3: 13.887\n",
        "task 91 on engine 3: 13.887\n",
        "task 92 on engine 0: 13.887\n",
        "task 93 on engine 0: 13.887\n",
        "task 94 on engine 0: 13.887\n",
        "task 95 on engine 0: 13.887\n",
        "task 96 on engine 2: 13.887\n",
        "task 97 on engine 2: 13.887\n",
        "task 98 on engine 2: 13.887\n",
        "task 99 on engine 2: 13.887\n"
       ]
      }
     ],
     "prompt_number": 17
    },
    {
     "cell_type": "markdown",
     "metadata": {},
     "source": [
      "# Excercise\n",
      "\n",
      "## Parallelize nested loops\n",
      "\n",
      "Often we want to run a function with a variety of combinations of arguments.\n",
      "A useful skill is the ability to express a nested loop in terms of a map."
     ]
    },
    {
     "cell_type": "code",
     "collapsed": false,
     "input": [
      "def area(w,h):\n",
      "    return w*h\n",
      "\n",
      "\n",
      "widths = range(1,4)\n",
      "heights = range(6,10)\n",
      "\n",
      "areas = []\n",
      "for w in widths:\n",
      "    for h in heights:\n",
      "        areas.append(area(w,h))\n",
      "areas"
     ],
     "language": "python",
     "metadata": {},
     "outputs": [
      {
       "output_type": "pyout",
       "prompt_number": 20,
       "text": [
        "[6, 7, 8, 9, 12, 14, 16, 18, 18, 21, 24, 27]"
       ]
      }
     ],
     "prompt_number": 20
    },
    {
     "cell_type": "markdown",
     "metadata": {},
     "source": [
      "<button onclick=\"$('#hint').toggle();\" label=\"hint\">\n",
      "hint\n",
      "</button>\n",
      "\n",
      "<div id=\"hint\">\n",
      "`itertools.product` and `zip` will be helpful.\n",
      "</div>\n",
      "<script type=\"text/javascript\">\n",
      "    $('#hint').hide();\n",
      "</script>"
     ]
    },
    {
     "cell_type": "code",
     "collapsed": true,
     "input": [
      "%load soln/nestedloop.py"
     ],
     "language": "python",
     "metadata": {},
     "outputs": [],
     "prompt_number": 21
    },
    {
     "cell_type": "code",
     "collapsed": false,
     "input": [
      "# To parallelize every call with map, you just need to get a list for each argument.\n",
      "# You can use `itertools.product` + `zip` to get this:\n",
      "\n",
      "\n",
      "import itertools\n",
      "\n",
      "product = list(itertools.product(widths, heights))\n",
      "# [(1, 6), (1, 7), (2, 6), (2, 7), (3, 6), (3, 7)]\n",
      "\n",
      "# So we have a \"list of pairs\", \n",
      "# but what we really want is a single list for each argument, i.e. a \"pair of lists\".\n",
      "# This is exactly what the slightly weird `zip(*product)` syntax gets us:\n",
      "\n",
      "allwidths, allheights = zip(*itertools.product(widths, heights))\n",
      "\n",
      "print \" widths\", allwidths\n",
      "print \"heights\", allheights\n",
      "\n",
      "# Now we just map our function onto those two lists, to parallelize nested for loops:\n",
      "\n",
      "ar = lview.map_async(area, allwidths, allheights)\n"
     ],
     "language": "python",
     "metadata": {},
     "outputs": [
      {
       "output_type": "stream",
       "stream": "stdout",
       "text": [
        " widths (1, 1, 1, 1, 2, 2, 2, 2, 3, 3, 3, 3)\n",
        "heights (6, 7, 8, 9, 6, 7, 8, 9, 6, 7, 8, 9)\n"
       ]
      }
     ],
     "prompt_number": 22
    },
    {
     "cell_type": "markdown",
     "metadata": {},
     "source": [
      "Validate the result:"
     ]
    },
    {
     "cell_type": "code",
     "collapsed": false,
     "input": [
      "p_areas = ar.get()\n",
      "p_areas"
     ],
     "language": "python",
     "metadata": {},
     "outputs": [
      {
       "output_type": "pyout",
       "prompt_number": 24,
       "text": [
        "[6, 7, 8, 9, 12, 14, 16, 18, 18, 21, 24, 27]"
       ]
      }
     ],
     "prompt_number": 24
    },
    {
     "cell_type": "code",
     "collapsed": false,
     "input": [
      "areas == p_areas"
     ],
     "language": "python",
     "metadata": {},
     "outputs": [
      {
       "output_type": "pyout",
       "prompt_number": 25,
       "text": [
        "True"
       ]
      }
     ],
     "prompt_number": 25
    }
   ],
   "metadata": {}
  }
 ]
}