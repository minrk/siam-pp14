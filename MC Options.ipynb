{
 "metadata": {
  "name": "MC Options"
 },
 "nbformat": 3,
 "worksheets": [
  {
   "cells": [
    {
     "cell_type": "markdown",
     "source": [
      "# Parallel Monto-Carlo options pricing"
     ]
    },
    {
     "cell_type": "markdown",
     "source": [
      "## Problem setup"
     ]
    },
    {
     "cell_type": "code",
     "collapsed": false,
     "input": [
      "%pylab inline"
     ],
     "language": "python",
     "outputs": [
      {
       "output_type": "stream",
       "stream": "stdout",
       "text": [
        "",
        "Welcome to pylab, a matplotlib-based Python environment [backend: module://IPython.zmq.pylab.backend_inline].",
        "For more information, type 'help(pylab)'."
       ]
      }
     ],
     "prompt_number": 1
    },
    {
     "cell_type": "code",
     "collapsed": true,
     "input": [
      "import sys",
      "import time",
      "from IPython.parallel import Client",
      "import numpy as np",
      "",
      "from matplotlib import pyplot as plt"
     ],
     "language": "python",
     "outputs": [],
     "prompt_number": 2
    },
    {
     "cell_type": "code",
     "collapsed": true,
     "input": [
      "def price_options(S=100.0, K=100.0, sigma=0.25, r=0.05, days=260, paths=10000):",
      "    \"\"\"",
      "    Price European and Asian options using a Monte Carlo method.",
      "",
      "    Parameters",
      "    ----------",
      "    S : float",
      "        The initial price of the stock.",
      "    K : float",
      "        The strike price of the option.",
      "    sigma : float",
      "        The volatility of the stock.",
      "    r : float",
      "        The risk free interest rate.",
      "    days : int",
      "        The number of days until the option expires.",
      "    paths : int",
      "        The number of Monte Carlo paths used to price the option.",
      "",
      "    Returns",
      "    -------",
      "    A tuple of (E. call, E. put, A. call, A. put) option prices.",
      "    \"\"\"",
      "    import numpy as np",
      "    from math import exp,sqrt",
      "    ",
      "    h = 1.0/days",
      "    const1 = exp((r-0.5*sigma**2)*h)",
      "    const2 = sigma*sqrt(h)",
      "    stock_price = S*np.ones(paths, dtype='float64')",
      "    stock_price_sum = np.zeros(paths, dtype='float64')",
      "    for j in range(days):",
      "        growth_factor = const1*np.exp(const2*np.random.standard_normal(paths))",
      "        stock_price = stock_price*growth_factor",
      "        stock_price_sum = stock_price_sum + stock_price",
      "    stock_price_avg = stock_price_sum/days",
      "    zeros = np.zeros(paths, dtype='float64')",
      "    r_factor = exp(-r*h*days)",
      "    euro_put = r_factor*np.mean(np.maximum(zeros, K-stock_price))",
      "    asian_put = r_factor*np.mean(np.maximum(zeros, K-stock_price_avg))",
      "    euro_call = r_factor*np.mean(np.maximum(zeros, stock_price-K))",
      "    asian_call = r_factor*np.mean(np.maximum(zeros, stock_price_avg-K))",
      "    return (euro_call, euro_put, asian_call, asian_put)"
     ],
     "language": "python",
     "outputs": [],
     "prompt_number": 3
    },
    {
     "cell_type": "code",
     "collapsed": true,
     "input": [
      "cluster_profile = \"default\"",
      "price = 100.0  # Initial price",
      "rate = 0.05  # Interest rate",
      "days = 260  # Days to expiration",
      "paths = 10000  # Number of MC paths",
      "n_strikes = 6  # Number of strike values",
      "min_strike = 90.0  # Min strike price",
      "max_strike = 110.0  # Max strike price",
      "n_sigmas = 5  # Number of volatility values",
      "min_sigma = 0.1  # Min volatility",
      "max_sigma = 0.4  # Max volatility"
     ],
     "language": "python",
     "outputs": [],
     "prompt_number": 4
    },
    {
     "cell_type": "code",
     "collapsed": true,
     "input": [
      "strike_vals = np.linspace(min_strike, max_strike, n_strikes)",
      "sigma_vals = np.linspace(min_sigma, max_sigma, n_sigmas)"
     ],
     "language": "python",
     "outputs": [],
     "prompt_number": 5
    },
    {
     "cell_type": "markdown",
     "source": [
      "## Parallel computation across strike prices and volatilities"
     ]
    },
    {
     "cell_type": "markdown",
     "source": [
      "The Client is used to setup the calculation and works with all engines."
     ]
    },
    {
     "cell_type": "code",
     "collapsed": false,
     "input": [
      "c = Client(profile=cluster_profile)"
     ],
     "language": "python",
     "outputs": [],
     "prompt_number": 8
    },
    {
     "cell_type": "markdown",
     "source": [
      "A LoadBalancedView is an interface to the engines that provides dynamic load",
      "balancing at the expense of not knowing which engine will execute the code."
     ]
    },
    {
     "cell_type": "code",
     "collapsed": true,
     "input": [
      "view = c.load_balanced_view()"
     ],
     "language": "python",
     "outputs": [],
     "prompt_number": 9
    },
    {
     "cell_type": "code",
     "collapsed": false,
     "input": [
      "print \"Strike prices: \", strike_vals",
      "print \"Volatilities: \", sigma_vals"
     ],
     "language": "python",
     "outputs": [
      {
       "output_type": "stream",
       "stream": "stdout",
       "text": [
        "Strike prices:  [  90.   94.   98.  102.  106.  110.]",
        "Volatilities:  [ 0.1    0.175  0.25   0.325  0.4  ]"
       ]
      }
     ],
     "prompt_number": 10
    },
    {
     "cell_type": "markdown",
     "source": [
      "Submit tasks for each (strike, sigma) pair."
     ]
    },
    {
     "cell_type": "code",
     "collapsed": true,
     "input": [
      "t1 = time.time()",
      "async_results = []",
      "for strike in strike_vals:",
      "    for sigma in sigma_vals:",
      "        ar = view.apply_async(price_options, price, strike, sigma, rate, days, paths)",
      "        async_results.append(ar)"
     ],
     "language": "python",
     "outputs": [],
     "prompt_number": 11
    },
    {
     "cell_type": "code",
     "collapsed": false,
     "input": [
      "print \"Submitted tasks: \", len(async_results)"
     ],
     "language": "python",
     "outputs": [
      {
       "output_type": "stream",
       "stream": "stdout",
       "text": [
        "Submitted tasks:  30"
       ]
      }
     ],
     "prompt_number": 12
    },
    {
     "cell_type": "markdown",
     "source": [
      "Block until all tasks are completed."
     ]
    },
    {
     "cell_type": "code",
     "collapsed": false,
     "input": [
      "c.wait(async_results)",
      "t2 = time.time()",
      "t = t2-t1",
      "",
      "print \"Parallel calculation completed, time = %s s\" % t"
     ],
     "language": "python",
     "outputs": [
      {
       "output_type": "stream",
       "stream": "stdout",
       "text": [
        "Parallel calculation completed, time = 5.11595606804 s"
       ]
      }
     ],
     "prompt_number": 13
    },
    {
     "cell_type": "markdown",
     "source": [
      "## Process and visualize results"
     ]
    },
    {
     "cell_type": "markdown",
     "source": [
      "Get the results using the `get` method:"
     ]
    },
    {
     "cell_type": "code",
     "collapsed": true,
     "input": [
      "results = [ar.get() for ar in async_results]"
     ],
     "language": "python",
     "outputs": [],
     "prompt_number": 14
    },
    {
     "cell_type": "markdown",
     "source": [
      "Assemble the result into a structured NumPy array."
     ]
    },
    {
     "cell_type": "code",
     "collapsed": true,
     "input": [
      "prices = np.empty(n_strikes*n_sigmas,",
      "    dtype=[('ecall',float),('eput',float),('acall',float),('aput',float)]",
      ")",
      "",
      "for i, price in enumerate(results):",
      "    prices[i] = tuple(price)",
      "",
      "prices.shape = (n_strikes, n_sigmas)"
     ],
     "language": "python",
     "outputs": [],
     "prompt_number": 15
    },
    {
     "cell_type": "markdown",
     "source": [
      "Plot the value of the European call in (volatility, strike) space."
     ]
    },
    {
     "cell_type": "code",
     "collapsed": false,
     "input": [
      "plt.figure()",
      "plt.contourf(sigma_vals, strike_vals, prices['ecall'])",
      "plt.axis('tight')",
      "plt.colorbar()",
      "plt.title('European Call')",
      "plt.xlabel(\"Volatility\")",
      "plt.ylabel(\"Strike Price\")"
     ],
     "language": "python",
     "outputs": [
      {
       "output_type": "pyout",
       "prompt_number": 16,
       "text": [
        "<matplotlib.text.Text at 0x10e532850>"
       ]
      },
      {
       "output_type": "display_data",
       "png": "[encoded data removed]"
      }
     ],
     "prompt_number": 16
    },
    {
     "cell_type": "markdown",
     "source": [
      "Plot the value of the Asian call in (volatility, strike) space."
     ]
    },
    {
     "cell_type": "code",
     "collapsed": false,
     "input": [
      "plt.figure()",
      "plt.contourf(sigma_vals, strike_vals, prices['acall'])",
      "plt.axis('tight')",
      "plt.colorbar()",
      "plt.title(\"Asian Call\")",
      "plt.xlabel(\"Volatility\")",
      "plt.ylabel(\"Strike Price\")"
     ],
     "language": "python",
     "outputs": [
      {
       "output_type": "pyout",
       "prompt_number": 17,
       "text": [
        "<matplotlib.text.Text at 0x10e6a7ed0>"
       ]
      },
      {
       "output_type": "display_data",
       "png": "[encoded data removed]"
      }
     ],
     "prompt_number": 17
    },
    {
     "cell_type": "markdown",
     "source": [
      "Plot the value of the European put in (volatility, strike) space."
     ]
    },
    {
     "cell_type": "code",
     "collapsed": false,
     "input": [
      "plt.figure()",
      "plt.contourf(sigma_vals, strike_vals, prices['eput'])",
      "plt.axis('tight')",
      "plt.colorbar()",
      "plt.title(\"European Put\")",
      "plt.xlabel(\"Volatility\")",
      "plt.ylabel(\"Strike Price\")"
     ],
     "language": "python",
     "outputs": [
      {
       "output_type": "pyout",
       "prompt_number": 18,
       "text": [
        "<matplotlib.text.Text at 0x10e5d7d90>"
       ]
      },
      {
       "output_type": "display_data",
       "png": "[encoded data removed]"
      }
     ],
     "prompt_number": 18
    },
    {
     "cell_type": "markdown",
     "source": [
      "Plot the value of the Asian put in (volatility, strike) space."
     ]
    },
    {
     "cell_type": "code",
     "collapsed": false,
     "input": [
      "plt.figure()",
      "plt.contourf(sigma_vals, strike_vals, prices['aput'])",
      "plt.axis('tight')",
      "plt.colorbar()",
      "plt.title(\"Asian Put\")",
      "plt.xlabel(\"Volatility\")",
      "plt.ylabel(\"Strike Price\")"
     ],
     "language": "python",
     "outputs": [
      {
       "output_type": "pyout",
       "prompt_number": 19,
       "text": [
        "<matplotlib.text.Text at 0x10e643b50>"
       ]
      },
      {
       "output_type": "display_data",
       "png": "[encoded data removed]"
      }
     ],
     "prompt_number": 19
    }
   ]
  }
 ]
}