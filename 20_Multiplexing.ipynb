{
 "metadata": {
  "name": "20_Multiplexing"
 },
 "nbformat": 2,
 "worksheets": [
  {
   "cells": [
    {
     "cell_type": "markdown",
     "source": [
      "# DirectView as multiplexer"
     ]
    },
    {
     "cell_type": "code",
     "collapsed": false,
     "input": [
      "import os,sys,time",
      "import numpy as np",
      "",
      "from IPython.core.display import display",
      "from IPython import parallel",
      "rc = parallel.Client()"
     ],
     "language": "python",
     "outputs": [],
     "prompt_number": 1
    },
    {
     "cell_type": "markdown",
     "source": [
      "The DirectView can be readily understood as an Engine Multiplexer -",
      "it does the same thing on all of its engines.",
      "",
      "The only difference between running code on a single remote engine",
      "and running code in parallel is how many engines the DirectView is",
      "instructed to use.",
      "",
      "You can create DirectViews by index-access to the Client.  This creates",
      "a DirectView using the engines after passing the same index (or slice)",
      "to the `ids` list."
     ]
    },
    {
     "cell_type": "code",
     "collapsed": true,
     "input": [
      "e0 = rc[0]",
      "eall = rc[:]",
      "even = rc[::2]",
      "odd = rc[1::2]",
      "",
      "# this is the one we are going to use:",
      "dview = eall",
      "dview.block = True"
     ],
     "language": "python",
     "outputs": [],
     "prompt_number": 2
    },
    {
     "cell_type": "markdown",
     "source": [
      "Now, the only difference from single-engine remote execution is that the code we run happens on all of the engines of a given view:"
     ]
    },
    {
     "cell_type": "code",
     "collapsed": false,
     "input": [
      "for view in (e0, eall, even, odd):",
      "    print view, view.apply_sync(os.getpid)"
     ],
     "language": "python",
     "outputs": [
      {
       "output_type": "stream",
       "stream": "stdout",
       "text": [
        "<DirectView 0> 48550",
        "<DirectView [0, 1, 2, 3]> [48550, 48549, 48546, 48551]",
        "<DirectView [0, 2]> [48550, 48546]",
        "<DirectView [1, 3]> "
       ]
      },
      {
       "output_type": "stream",
       "stream": "stdout",
       "text": [
        "[48549, 48551]"
       ]
      }
     ],
     "prompt_number": 3
    },
    {
     "cell_type": "markdown",
     "source": [
      "The results of multiplexed execution is always a list of the length of the number of engines."
     ]
    },
    {
     "cell_type": "code",
     "collapsed": false,
     "input": [
      "dview['a'] = 5",
      "dview['a']"
     ],
     "language": "python",
     "outputs": [
      {
       "output_type": "pyout",
       "prompt_number": 4,
       "text": [
        "[5, 5, 5, 5]"
       ]
      }
     ],
     "prompt_number": 4
    },
    {
     "cell_type": "markdown",
     "source": [
      "# Scatter and Gather",
      "",
      "Lots of parallel computations involve partitioning data onto processes.  ",
      "DirectViews have `scatter()` and `gather()` methods, to help with this.",
      "Pass any container or numpy array, and IPython will partition the object onto the engines wih `scatter`,",
      "or reconstruct the full object in the Client with `gather()`."
     ]
    },
    {
     "cell_type": "code",
     "collapsed": false,
     "input": [
      "dview.scatter('a',range(16))",
      "dview['a']"
     ],
     "language": "python",
     "outputs": [
      {
       "output_type": "pyout",
       "prompt_number": 5,
       "text": [
        "[[0, 1, 2, 3], [4, 5, 6, 7], [8, 9, 10, 11], [12, 13, 14, 15]]"
       ]
      }
     ],
     "prompt_number": 5
    },
    {
     "cell_type": "code",
     "collapsed": false,
     "input": [
      "dview.gather('a')"
     ],
     "language": "python",
     "outputs": [
      {
       "output_type": "pyout",
       "prompt_number": 6,
       "text": [
        "[0, 1, 2, 3, 4, 5, 6, 7, 8, 9, 10, 11, 12, 13, 14, 15]"
       ]
      }
     ],
     "prompt_number": 6
    },
    {
     "cell_type": "code",
     "collapsed": false,
     "input": [
      "dview.execute(\"asum = sum(a)\")",
      "dview.gather('asum')"
     ],
     "language": "python",
     "outputs": [
      {
       "output_type": "pyout",
       "prompt_number": 7,
       "text": [
        "[6, 22, 38, 54]"
       ]
      }
     ],
     "prompt_number": 7
    },
    {
     "cell_type": "markdown",
     "source": [
      "We can pass a 'flatten' keyword,",
      "to instruct engines that will only get one item of the list to",
      "get the actual item, rather than a one-element sublist:"
     ]
    },
    {
     "cell_type": "code",
     "collapsed": false,
     "input": [
      "dview.scatter('id',rc.ids)",
      "dview['id']"
     ],
     "language": "python",
     "outputs": [
      {
       "output_type": "pyout",
       "prompt_number": 8,
       "text": [
        "[[0], [1], [2], [3]]"
       ]
      }
     ],
     "prompt_number": 8
    },
    {
     "cell_type": "code",
     "collapsed": false,
     "input": [
      "dview.scatter('id',rc.ids, flatten=True)",
      "dview['id']"
     ],
     "language": "python",
     "outputs": [
      {
       "output_type": "pyout",
       "prompt_number": 9,
       "text": [
        "[0, 1, 2, 3]"
       ]
      }
     ],
     "prompt_number": 9
    },
    {
     "cell_type": "markdown",
     "source": [
      "Scatter and gather also work with numpy arrays"
     ]
    },
    {
     "cell_type": "code",
     "collapsed": false,
     "input": [
      "A = np.random.randint(1,10,(16,4))",
      "B = np.random.randint(1,10,(4,16))",
      "display(A)",
      "display(B)"
     ],
     "language": "python",
     "outputs": [
      {
       "output_type": "display_data",
       "text": [
        "array([[9, 4, 7, 3],",
        "       [7, 7, 4, 8],",
        "       [1, 7, 1, 9],",
        "       [7, 1, 2, 6],",
        "       [7, 9, 1, 4],",
        "       [4, 7, 4, 2],",
        "       [9, 2, 3, 2],",
        "       [3, 8, 8, 7],",
        "       [8, 6, 5, 9],",
        "       [3, 2, 1, 3],",
        "       [1, 1, 6, 3],",
        "       [7, 3, 8, 5],",
        "       [1, 1, 2, 3],",
        "       [3, 3, 5, 6],",
        "       [8, 1, 9, 2],",
        "       [1, 5, 5, 7]])"
       ]
      },
      {
       "output_type": "display_data",
       "text": [
        "array([[7, 8, 5, 9, 3, 8, 1, 2, 6, 1, 6, 9, 9, 8, 5, 7],",
        "       [1, 3, 1, 3, 6, 8, 1, 5, 8, 4, 6, 9, 9, 4, 2, 9],",
        "       [8, 2, 2, 5, 9, 5, 2, 6, 1, 1, 6, 7, 7, 9, 3, 2],",
        "       [8, 9, 4, 6, 1, 8, 4, 3, 9, 1, 4, 9, 1, 4, 6, 4]])"
       ]
      }
     ],
     "prompt_number": 10
    },
    {
     "cell_type": "code",
     "collapsed": false,
     "input": [
      "dview.scatter('A', A)",
      "dview.scatter('B', B)",
      "display(e0['A'])",
      "display(e0['B'])"
     ],
     "language": "python",
     "outputs": [
      {
       "output_type": "display_data",
       "text": [
        "array([[9, 4, 7, 3],",
        "       [7, 7, 4, 8],",
        "       [1, 7, 1, 9],",
        "       [7, 1, 2, 6]])"
       ]
      },
      {
       "output_type": "display_data",
       "text": [
        "array([[7, 8, 5, 9, 3, 8, 1, 2, 6, 1, 6, 9, 9, 8, 5, 7]])"
       ]
      }
     ],
     "prompt_number": 11
    },
    {
     "cell_type": "markdown",
     "source": [
      "# Excercise: Parallel Matrix Multiply",
      "",
      "Can you compute the Matrix product `C=A.dot(B)` in parallel? (not looking for brilliant, just correct).",
      "",
      "<button onclick=\"$('#mmhint1').toggle();\">hint</button>",
      "<div id=\"mmhint1\">",
      "Remember - multiply rows of one by the columns of the other.",
      "</div>",
      "<button onclick=\"$('#mmhint').toggle();\">hint</button>",
      "<div id=\"mmhint\">",
      "easiest implementation involves one each of: push, scatter, execute, gather",
      "</div>",
      "<script type=\"text/javascript\">",
      "    $('#mmhint').hide();",
      "    $('#mmhint1').hide();",
      "</script>"
     ]
    },
    {
     "cell_type": "code",
     "collapsed": true,
     "input": [
      "%loadpy soln/matmul.py"
     ],
     "language": "python",
     "outputs": [],
     "prompt_number": 37
    },
    {
     "cell_type": "markdown",
     "source": [
      "Let's run this, and validate the result against a local computation."
     ]
    },
    {
     "cell_type": "code",
     "collapsed": false,
     "input": [
      "C_ref = A.dot(B)",
      "C1 = pdot(dview, A, B)",
      "# validation:",
      "(C1==C_ref).all()"
     ],
     "language": "python",
     "outputs": [
      {
       "output_type": "pyout",
       "prompt_number": 38,
       "text": [
        "True"
       ]
      }
     ],
     "prompt_number": 38
    },
    {
     "cell_type": "markdown",
     "source": [
      "# Map",
      "",
      "DirectViews have a map method, which behaves just like the builtin map,",
      "but computed in parallel."
     ]
    },
    {
     "cell_type": "code",
     "collapsed": false,
     "input": [
      "dview.block = True",
      "",
      "serial_result   =       map(lambda x:x**10, range(32))",
      "parallel_result = dview.map(lambda x:x**10, range(32))",
      "",
      "serial_result==parallel_result"
     ],
     "language": "python",
     "outputs": [
      {
       "output_type": "pyout",
       "prompt_number": 12,
       "text": [
        "True"
       ]
      }
     ],
     "prompt_number": 12
    },
    {
     "cell_type": "markdown",
     "source": [
      "`DirectView.map` partitions the sequences onto each engine,",
      "and then calls `map` remotely.  The result is always a single",
      "IPython task per engine."
     ]
    },
    {
     "cell_type": "code",
     "collapsed": false,
     "input": [
      "amr = dview.map_async(lambda x:x**10, range(32))",
      "amr.msg_ids"
     ],
     "language": "python",
     "outputs": [
      {
       "output_type": "pyout",
       "prompt_number": 13,
       "text": [
        "['62561534-aea1-4a2a-95bf-dcb111a664a6',",
        " 'ebba3e35-c785-4b89-b4a7-f38fb5889c2d',",
        " '94390aef-2785-4408-aa45-d01a191a0f83',",
        " '2d3f6f9d-35a2-44e8-908b-48915eff9d8f']"
       ]
      }
     ],
     "prompt_number": 13
    },
    {
     "cell_type": "code",
     "collapsed": false,
     "input": [
      "amr = dview.map_async(lambda x:x**10, range(3200))",
      "amr.msg_ids"
     ],
     "language": "python",
     "outputs": [
      {
       "output_type": "pyout",
       "prompt_number": 15,
       "text": [
        "['0220ba6d-2435-4cda-9063-5c0a23755246',",
        " '259a6313-bb90-4bbc-8872-d8f968cd06ad',",
        " 'b83a3174-0f95-432b-86d8-56ce698fe494',",
        " 'baae174f-07b5-4a2e-8f5e-ba5e54a7024d']"
       ]
      }
     ],
     "prompt_number": 15
    }
   ]
  }
 ]
}