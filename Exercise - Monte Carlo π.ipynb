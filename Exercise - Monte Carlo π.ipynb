{
 "metadata": {
  "name": "Exercise - Monte Carlo \u03c0"
 },
 "nbformat": 3,
 "nbformat_minor": 0,
 "worksheets": [
  {
   "cells": [
    {
     "cell_type": "markdown",
     "metadata": {},
     "source": [
      "# Multiplexing Exercise - Monte Carlo \u03c0\n",
      "\n",
      "A simple toy problem to get a handle on multiple engines is a Monte\n",
      "Carlo approximation of \u03c0.\n",
      "\n",
      "Let's say we have a dartboard with a round target inscribed on a square\n",
      "board. If you threw darts randomly, and they land evenly distributed on\n",
      "the square board, how many darts would you expect to hit the target?\n",
      "\n",
      "<img src=\"files/figs/darts.png\"/>"
     ]
    },
    {
     "cell_type": "markdown",
     "metadata": {},
     "source": [
      "$$\n",
      "\\frac{A_c}{A_{sq}} = \\frac{\\pi r^2}{(2r)^2} = \\frac{\\pi}{4}\n",
      "$$"
     ]
    },
    {
     "cell_type": "code",
     "collapsed": false,
     "input": [
      "from random import random\n",
      "from math import pi\n",
      "\n",
      "def mcpi(nsamples):\n",
      "    s = 0\n",
      "    for i in xrange(nsamples):\n",
      "        x = random()\n",
      "        y = random()\n",
      "        if x*x + y*y <= 1:\n",
      "            s+=1\n",
      "    return 4.*s/nsamples"
     ],
     "language": "python",
     "metadata": {},
     "outputs": []
    },
    {
     "cell_type": "code",
     "collapsed": false,
     "input": [
      "for n in [10, 100, 1000, 10000, 100000, 1000000]:\n",
      "    print \"%8i\" % n,\n",
      "    for i in range(3):\n",
      "        print \"%.5f\" % mcpi(n),\n",
      "    print"
     ],
     "language": "python",
     "metadata": {},
     "outputs": []
    },
    {
     "cell_type": "code",
     "collapsed": false,
     "input": [
      "%timeit mcpi(1000000)"
     ],
     "language": "python",
     "metadata": {},
     "outputs": []
    },
    {
     "cell_type": "markdown",
     "metadata": {},
     "source": [
      "It takes a lot of samples to get a good approximation. Can you write a\n",
      "function that will use your engines to break up the work?\n",
      "\n",
      "    def multi_mcpi(dview, nsamples):\n",
      "        raise NotImplementedError(\"you write this\")"
     ]
    },
    {
     "cell_type": "code",
     "collapsed": false,
     "input": [
      "from IPython import parallel\n",
      "rc = parallel.Client()\n",
      "\n",
      "view = rc[:]"
     ],
     "language": "python",
     "metadata": {},
     "outputs": []
    },
    {
     "cell_type": "code",
     "collapsed": true,
     "input": [
      "%load soln/mcpi.py"
     ],
     "language": "python",
     "metadata": {},
     "outputs": []
    },
    {
     "cell_type": "code",
     "collapsed": false,
     "input": [
      "multi_mcpi(view, 10000000)"
     ],
     "language": "python",
     "metadata": {},
     "outputs": []
    }
   ],
   "metadata": {}
  }
 ]
}