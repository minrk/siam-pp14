{
 "metadata": {
  "name": "",
  "signature": "sha256:4f077957e0e58e76606817fd7b6809db5b5a224f8330d95a77ab5ff1d8f0a2ec"
 },
 "nbformat": 3,
 "nbformat_minor": 0,
 "worksheets": [
  {
   "cells": [
    {
     "cell_type": "heading",
     "level": 1,
     "metadata": {},
     "source": [
      "Overview and Architecture"
     ]
    },
    {
     "cell_type": "heading",
     "level": 2,
     "metadata": {},
     "source": [
      "Background"
     ]
    },
    {
     "cell_type": "heading",
     "level": 3,
     "metadata": {},
     "source": [
      "What is IPython?"
     ]
    },
    {
     "cell_type": "markdown",
     "metadata": {},
     "source": [
      "- An environment for interactive computing"
     ]
    },
    {
     "cell_type": "code",
     "collapsed": false,
     "input": [
      "print('hi')"
     ],
     "language": "python",
     "metadata": {},
     "outputs": []
    },
    {
     "cell_type": "code",
     "collapsed": false,
     "input": [
      "from sympy import Symbol, factor\n",
      "from sympy.interactive import init_printing\n",
      "init_printing(use_latex='mathjax')\n",
      "\n",
      "from IPython.html.widgets import interact\n",
      "from IPython.display import display\n",
      "\n",
      "@interact\n",
      "def factorit(p=10):\n",
      "    x = Symbol('x')\n",
      "    display(factor(x**p-1))\n"
     ],
     "language": "python",
     "metadata": {},
     "outputs": []
    },
    {
     "cell_type": "code",
     "collapsed": false,
     "input": [
      "%matplotlib inline\n",
      "import numpy as np\n",
      "import matplotlib.pyplot as plt\n",
      "from scipy.special import jn\n",
      "x = np.linspace(0,10, 1000)\n",
      "\n",
      "@interact(n=(1,20))\n",
      "def plot_j(n=10):\n",
      "    fig = plt.gcf()\n",
      "    for i in range(n):\n",
      "        plt.plot(x, jn(i, x))\n",
      "    plt.title(r\"$n \\leq %i$\" % n)\n",
      "    display(fig)\n",
      "    plt.close(fig)"
     ],
     "language": "python",
     "metadata": {},
     "outputs": []
    },
    {
     "cell_type": "heading",
     "level": 3,
     "metadata": {},
     "source": [
      "But what is it really?"
     ]
    },
    {
     "cell_type": "markdown",
     "metadata": {},
     "source": [
      "<img src=\"figs/wideView-kernel.png\" style=\"float: right;margin-top: 0; margin: -2em -2em 0em -8em;\" height=\"400px\"/>\n",
      "<img src=\"figs/wideView-kernel.png\" style=\"float: right;margin:0px;\" height=\"400px\"/>\n",
      "- A protocol for remote execution\n",
      "\n",
      "The basic message format\n",
      "```python\n",
      "{\n",
      "  # The message header\n",
      "  'header' : {\n",
      "    'msg_id' : uuid,\n",
      "    'msg_type' : str,\n",
      "  },\n",
      "  # replies or side effects have parents\n",
      "  'parent_header' : dict,\n",
      "\n",
      "  # Metadata associated with the message\n",
      "  'metadata' : dict,\n",
      "\n",
      "  # The actual content of the message\n",
      "  'content' : dict,\n",
      "}\n",
      "```\n",
      "\n",
      "- A **language agnostic** protocol, with implementations in Julia, Haskell, Scala, Ruby, Javascript, Go, F#, ..."
     ]
    },
    {
     "cell_type": "heading",
     "level": 3,
     "metadata": {},
     "source": [
      "So, what is IPython.parallel?"
     ]
    },
    {
     "cell_type": "markdown",
     "metadata": {},
     "source": [
      "<img src=\"files/figs/wideView.png\" style=\"float: right; margin: -4em -2em 0 -4em;\" height=\"400px\"/>\n",
      "It is a short step from **remote** execution to **parallel** execution.\n",
      "**IPython.parallel** is just coordination tools for multiple IPython instances."
     ]
    },
    {
     "cell_type": "heading",
     "level": 3,
     "metadata": {},
     "source": [
      "What is it for?"
     ]
    },
    {
     "cell_type": "markdown",
     "metadata": {},
     "source": [
      "IPython's model is generic, so it can be used in many different ways:\n",
      "\n",
      "-   Single program, multiple data (SPMD) parallelism\n",
      "-   Multiple program, multiple data (MPMD) parallelism\n",
      "-   Message passing with MPI or \u00d8MQ\n",
      "-   Task farming\n",
      "-   Data parallel\n",
      "-   Coordination of distributed processes\n",
      "-   Combinations of these approaches\n",
      "-   Custom user defined approaches\n",
      "\n",
      "Most importantly, IPython enables all types of parallel applications to\n",
      "be developed, executed, debugged and monitored *interactively*. Hence,\n",
      "the **I** in IPython."
     ]
    },
    {
     "cell_type": "heading",
     "level": 3,
     "metadata": {},
     "source": [
      "Architecture overview"
     ]
    },
    {
     "cell_type": "markdown",
     "metadata": {},
     "source": [
      "<img src=\"files/figs/wideView.png\" style=\"float: right;margin-top: -4em\" width=\"500px\"/>\n",
      "\n",
      "The IPython architecture consists of four components:\n",
      "\n",
      "-   **Engines**\n",
      "-   **Hub**\n",
      "-   **Schedulers**\n",
      "-   **Clients**\n",
      "\n",
      "These components live in the `IPython.parallel` package and are\n",
      "installed with IPython."
     ]
    },
    {
     "cell_type": "heading",
     "level": 3,
     "metadata": {},
     "source": [
      "IPython engine"
     ]
    },
    {
     "cell_type": "markdown",
     "metadata": {},
     "source": [
      "<img src=\"figs/crop-engine.png\" style=\"float: right;\" width=\"500px\"/>\n",
      "\n",
      "The IPython engine is an IPython instance that accepts Python commands over a network connection.\n",
      "\n",
      "The only difference between an engine and the kernel which drives this notebook is the connection direction."
     ]
    },
    {
     "cell_type": "heading",
     "level": 3,
     "metadata": {},
     "source": [
      "IPython controller"
     ]
    },
    {
     "cell_type": "markdown",
     "metadata": {},
     "source": [
      "<img src=\"files/figs/crop-controller.png\" style=\"float: right;\" width=\"500px\"/>\n",
      "\n",
      "The **Hub** and **Schedulers** together form the **Controller**,\n",
      "which coordinate the engines.\n",
      "\n",
      "- The **Hub** monitors the state of the cluster (slow).\n",
      "- The **Schedulers** mediate communication between engines and clients (fast)."
     ]
    },
    {
     "cell_type": "heading",
     "level": 4,
     "metadata": {},
     "source": [
      "\u00d8MQ and PyZMQ"
     ]
    },
    {
     "cell_type": "markdown",
     "metadata": {},
     "source": [
      "All of this is implemented with the \u00d8MQ messaging library,\n",
      "and pyzmq, the lightweight Python bindings, which allows very fast\n",
      "zero-copy communication of objects like numpy arrays, and receiver-side buffering of messages, all without the GIL."
     ]
    },
    {
     "cell_type": "heading",
     "level": 3,
     "metadata": {},
     "source": [
      "IPython Clients and Views"
     ]
    },
    {
     "cell_type": "markdown",
     "metadata": {},
     "source": [
      "There is one primary object, the `Client`, for connecting to a cluster.\n",
      "For each execution model, there is a corresponding `View`.\n",
      "These views allow users to interact with a set of engines through the interface.\n",
      "\n",
      "The two default views:\n",
      "\n",
      "-   The `DirectView` class for explicit addressing.\n",
      "-   The `LoadBalancedView` class for destination-agnostic\n",
      "    scheduling."
     ]
    },
    {
     "cell_type": "heading",
     "level": 2,
     "metadata": {},
     "source": [
      "Getting Started"
     ]
    },
    {
     "cell_type": "heading",
     "level": 3,
     "metadata": {},
     "source": [
      "Starting the IPython Controller and Engines"
     ]
    },
    {
     "cell_type": "markdown",
     "metadata": {},
     "source": [
      "To get a cluster up and running is simple. We just need to start one controller, and a number of engines.\n",
      "\n",
      "The simplest way of doing this is with the [clusters tab](/tree#clusters),\n",
      "or you can use the `ipcluster` command in a terminal:\n",
      "\n",
      "    $ ipcluster start -n 4\n",
      "\n",
      "`ipcluster` is just shorthand for calling\n",
      "\n",
      "    $ ipcluster\n",
      "\n",
      "and\n",
      "\n",
      "    $ ipengine (n times)\n",
      "\n",
      "It also understands how to submit these commands with various batch systems, including:\n",
      "\n",
      "* MPI\n",
      "* SGE\n",
      "* PBS\n",
      "* LSF\n",
      "* Condor\n",
      "* SSH\n",
      "* WinHPC"
     ]
    },
    {
     "cell_type": "markdown",
     "metadata": {},
     "source": [
      "Creating a client"
     ]
    },
    {
     "cell_type": "code",
     "collapsed": false,
     "input": [
      "from IPython import parallel\n",
      "rc = parallel.Client()\n",
      "rc.block = True"
     ],
     "language": "python",
     "metadata": {},
     "outputs": []
    },
    {
     "cell_type": "code",
     "collapsed": false,
     "input": [
      "rc.ids"
     ],
     "language": "python",
     "metadata": {},
     "outputs": []
    },
    {
     "cell_type": "code",
     "collapsed": false,
     "input": [
      "def mul(a,b):\n",
      "    return a*b"
     ],
     "language": "python",
     "metadata": {},
     "outputs": []
    },
    {
     "cell_type": "code",
     "collapsed": false,
     "input": [
      "mul(5,6)"
     ],
     "language": "python",
     "metadata": {},
     "outputs": []
    },
    {
     "cell_type": "markdown",
     "metadata": {},
     "source": [
      "What does it look like to call this function remotely?\n",
      "\n",
      "Just turn `f(*args, **kwargs)` into `view.apply(f, *args, **kwargs)`!"
     ]
    },
    {
     "cell_type": "code",
     "collapsed": false,
     "input": [
      "rc[0].apply(mul, 5, 6)"
     ],
     "language": "python",
     "metadata": {},
     "outputs": []
    },
    {
     "cell_type": "markdown",
     "metadata": {},
     "source": [
      "And the same thing in parallel?"
     ]
    },
    {
     "cell_type": "code",
     "collapsed": false,
     "input": [
      "rc[:].apply(mul, 5, 6)"
     ],
     "language": "python",
     "metadata": {},
     "outputs": []
    },
    {
     "cell_type": "markdown",
     "metadata": {},
     "source": [
      "Python has a builtin map for calling a function with a variety of arguments"
     ]
    },
    {
     "cell_type": "code",
     "collapsed": false,
     "input": [
      "map(mul, range(1,10), range(2,11))"
     ],
     "language": "python",
     "metadata": {},
     "outputs": []
    },
    {
     "cell_type": "markdown",
     "metadata": {},
     "source": [
      "So how do we do this in parallel?"
     ]
    },
    {
     "cell_type": "code",
     "collapsed": false,
     "input": [
      "view = rc.load_balanced_view()\n",
      "view.map(mul, range(1,10), range(2,11))"
     ],
     "language": "python",
     "metadata": {},
     "outputs": []
    },
    {
     "cell_type": "markdown",
     "metadata": {},
     "source": [
      "And a preview of parallel magics:"
     ]
    },
    {
     "cell_type": "code",
     "collapsed": false,
     "input": [
      "%%px\n",
      "import os, socket\n",
      "print os.getpid()\n",
      "print socket.gethostname()"
     ],
     "language": "python",
     "metadata": {},
     "outputs": []
    },
    {
     "cell_type": "markdown",
     "metadata": {},
     "source": [
      "I'll go into further detail about different views, and asynchronous communication later.\n",
      "First, let's peek at the performance of the IPython.parallel infrastructure, \n",
      "so we can see what level of granularity we can consider using."
     ]
    },
    {
     "cell_type": "code",
     "collapsed": false,
     "input": [
      "import mpi4py"
     ],
     "language": "python",
     "metadata": {},
     "outputs": []
    },
    {
     "cell_type": "code",
     "collapsed": false,
     "input": [
      "%%px\n",
      "import os\n",
      "import mpi4py.MPI\n",
      "MPI = mpi4py.MPI.COMM_WORLD\n",
      "rank = MPI.Get_rank()\n",
      "print \"MPI Rank of PID %i is %i\" % (os.getpid(), rank)"
     ],
     "language": "python",
     "metadata": {},
     "outputs": []
    },
    {
     "cell_type": "markdown",
     "metadata": {},
     "source": [
      "Now we can look at [the basic API](The%20Basic%20API.ipynb) of `IPython.parallel`."
     ]
    }
   ],
   "metadata": {}
  }
 ]
}