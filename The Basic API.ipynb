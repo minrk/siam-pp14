{
 "metadata": {
  "name": "",
  "signature": "sha256:221a01b6355d1c8730077ce8ba3d1c738f5823e498be09df2dc758f5ab5d012c"
 },
 "nbformat": 3,
 "nbformat_minor": 0,
 "worksheets": [
  {
   "cells": [
    {
     "cell_type": "heading",
     "level": 1,
     "metadata": {},
     "source": [
      "The basic API for parallel computation with IPython"
     ]
    },
    {
     "cell_type": "markdown",
     "metadata": {},
     "source": [
      "A Client is the low-level object which manages your connection to the various Schedulers and the Hub.\n",
      "Everything you do passes through one of these objects, either indirectly or directly.\n",
      "\n",
      "It has an `ids` property, which is always an up-to-date list of the integer engine IDs currently available."
     ]
    },
    {
     "cell_type": "code",
     "collapsed": false,
     "input": [
      "import os, sys, time\n",
      "import numpy\n",
      "\n",
      "from IPython import parallel\n",
      "rc = parallel.Client()"
     ],
     "language": "python",
     "metadata": {},
     "outputs": [],
     "prompt_number": 1
    },
    {
     "cell_type": "markdown",
     "metadata": {},
     "source": [
      "Engines have unique integer IDs"
     ]
    },
    {
     "cell_type": "code",
     "collapsed": false,
     "input": [
      "rc.ids"
     ],
     "language": "python",
     "metadata": {},
     "outputs": [
      {
       "metadata": {},
       "output_type": "pyout",
       "prompt_number": 2,
       "text": [
        "[0, 1, 2, 3]"
       ]
      }
     ],
     "prompt_number": 2
    },
    {
     "cell_type": "markdown",
     "metadata": {},
     "source": [
      "You can create **Views** of the engines,\n",
      "which define how you interact.\n",
      "\n",
      "The most basic function of the **Client** is to create the **View** objects,\n",
      "which are the interfaces for actual communication with the engines.\n",
      "\n",
      "There are two basic models for working with engines.  Let's start with the simplest case for remote execution, a DirectView of one engine:"
     ]
    },
    {
     "cell_type": "code",
     "collapsed": false,
     "input": [
      "e0 = rc[0] # index-access of a client gives us a DirectView\n",
      "even = rc[::2]\n",
      "eall = rc[:]\n",
      "lbv = rc.load_balanced_view()\n",
      "print(e0)\n",
      "print(even)\n",
      "print(eall)\n",
      "print(lbv)"
     ],
     "language": "python",
     "metadata": {},
     "outputs": [
      {
       "output_type": "stream",
       "stream": "stdout",
       "text": [
        "<DirectView 0>\n",
        "<DirectView [0, 2]>\n",
        "<DirectView [0, 1, 2, 3]>\n",
        "<LoadBalancedView None>\n"
       ]
      }
     ],
     "prompt_number": 3
    },
    {
     "cell_type": "markdown",
     "metadata": {},
     "source": [
      "The basic unit of execution is a Python function\n",
      "and its arguments."
     ]
    },
    {
     "cell_type": "code",
     "collapsed": false,
     "input": [
      "def get_norms(A, levels=[2]):\n",
      "    \"\"\"get all the requested norms for an array\"\"\"\n",
      "    norms = []\n",
      "    for level in levels:\n",
      "        norms.append(numpy.linalg.norm(A, level))\n",
      "    return norms\n",
      "\n",
      "A = numpy.random.random(1024)\n",
      "get_norms(A, levels=[1,2,3,numpy.inf])"
     ],
     "language": "python",
     "metadata": {},
     "outputs": [
      {
       "metadata": {},
       "output_type": "pyout",
       "prompt_number": 4,
       "text": [
        "[519.64813529045921,\n",
        " 18.639466079895087,\n",
        " 6.3837946707957283,\n",
        " 0.99962068052450537]"
       ]
      }
     ],
     "prompt_number": 4
    },
    {
     "cell_type": "markdown",
     "metadata": {},
     "source": [
      "`IPython.parallel` is all about:\n",
      "\n",
      "```python\n",
      "view.apply(f, *args, **kwargs)\n",
      "```"
     ]
    },
    {
     "cell_type": "code",
     "collapsed": false,
     "input": [
      "%px import numpy\n",
      "\n",
      "ar = e0.apply(get_norms, A, levels=[1,2,3,numpy.inf])\n",
      "ar"
     ],
     "language": "python",
     "metadata": {},
     "outputs": [
      {
       "metadata": {},
       "output_type": "pyout",
       "prompt_number": 5,
       "text": [
        "<AsyncResult: get_norms>"
       ]
      }
     ],
     "prompt_number": 5
    },
    {
     "cell_type": "markdown",
     "metadata": {},
     "source": [
      "Results are asynchronous"
     ]
    },
    {
     "cell_type": "code",
     "collapsed": false,
     "input": [
      "ar.get()"
     ],
     "language": "python",
     "metadata": {},
     "outputs": [
      {
       "metadata": {},
       "output_type": "pyout",
       "prompt_number": 6,
       "text": [
        "[519.64813529045921,\n",
        " 18.639466079895087,\n",
        " 6.3837946707957283,\n",
        " 0.99962068052450537]"
       ]
      }
     ],
     "prompt_number": 6
    },
    {
     "cell_type": "code",
     "collapsed": false,
     "input": [
      "ar = lbv.map(time.sleep, range(8))\n",
      "ar.wait_interactive()"
     ],
     "language": "python",
     "metadata": {},
     "outputs": [
      {
       "output_type": "stream",
       "stream": "stdout",
       "text": [
        "   8/8 tasks finished after   10 s"
       ]
      },
      {
       "output_type": "stream",
       "stream": "stdout",
       "text": [
        "\n",
        "done\n"
       ]
      }
     ],
     "prompt_number": 7
    },
    {
     "cell_type": "code",
     "collapsed": false,
     "input": [
      "e0.apply_sync(numpy.linalg.norm, A, 2)"
     ],
     "language": "python",
     "metadata": {},
     "outputs": [
      {
       "metadata": {},
       "output_type": "pyout",
       "prompt_number": 8,
       "text": [
        "18.639466079895087"
       ]
      }
     ],
     "prompt_number": 8
    },
    {
     "cell_type": "markdown",
     "metadata": {},
     "source": [
      "The shape of the results depend on the View"
     ]
    },
    {
     "cell_type": "code",
     "collapsed": false,
     "input": [
      "e0.apply_sync(os.getpid)"
     ],
     "language": "python",
     "metadata": {},
     "outputs": [
      {
       "metadata": {},
       "output_type": "pyout",
       "prompt_number": 9,
       "text": [
        "12503"
       ]
      }
     ],
     "prompt_number": 9
    },
    {
     "cell_type": "code",
     "collapsed": false,
     "input": [
      "even.apply_sync(os.getpid)"
     ],
     "language": "python",
     "metadata": {},
     "outputs": [
      {
       "metadata": {},
       "output_type": "pyout",
       "prompt_number": 10,
       "text": [
        "[12503, 12502]"
       ]
      }
     ],
     "prompt_number": 10
    },
    {
     "cell_type": "code",
     "collapsed": false,
     "input": [
      "eall.apply_sync(os.getpid)"
     ],
     "language": "python",
     "metadata": {},
     "outputs": [
      {
       "metadata": {},
       "output_type": "pyout",
       "prompt_number": 11,
       "text": [
        "[12503, 12500, 12502, 12501]"
       ]
      }
     ],
     "prompt_number": 11
    },
    {
     "cell_type": "markdown",
     "metadata": {},
     "source": [
      "Results have the same shape as the engines."
     ]
    },
    {
     "cell_type": "code",
     "collapsed": false,
     "input": [
      "@parallel.require('os', 'time')\n",
      "def wait_here(t):\n",
      "    time.sleep(t)\n",
      "    return os.getpid()\n",
      "\n",
      "for i in range(len(rc) * 2):\n",
      "    print lbv.apply_sync(wait_here, 1)"
     ],
     "language": "python",
     "metadata": {},
     "outputs": [
      {
       "output_type": "stream",
       "stream": "stdout",
       "text": [
        "12502\n",
        "12503"
       ]
      },
      {
       "output_type": "stream",
       "stream": "stdout",
       "text": [
        "\n",
        "12500"
       ]
      },
      {
       "output_type": "stream",
       "stream": "stdout",
       "text": [
        "\n",
        "12501"
       ]
      },
      {
       "output_type": "stream",
       "stream": "stdout",
       "text": [
        "\n",
        "12502"
       ]
      },
      {
       "output_type": "stream",
       "stream": "stdout",
       "text": [
        "\n",
        "12503"
       ]
      },
      {
       "output_type": "stream",
       "stream": "stdout",
       "text": [
        "\n",
        "12500"
       ]
      },
      {
       "output_type": "stream",
       "stream": "stdout",
       "text": [
        "\n",
        "12501"
       ]
      },
      {
       "output_type": "stream",
       "stream": "stdout",
       "text": [
        "\n"
       ]
      }
     ],
     "prompt_number": 12
    },
    {
     "cell_type": "heading",
     "level": 2,
     "metadata": {},
     "source": [
      "Working with the engine namespace"
     ]
    },
    {
     "cell_type": "markdown",
     "metadata": {},
     "source": [
      "In Python, namespaces are just dictionaries. Treat them as such."
     ]
    },
    {
     "cell_type": "code",
     "collapsed": false,
     "input": [
      "eall['a'] = 5"
     ],
     "language": "python",
     "metadata": {},
     "outputs": [],
     "prompt_number": 13
    },
    {
     "cell_type": "code",
     "collapsed": false,
     "input": [
      "e0['a']"
     ],
     "language": "python",
     "metadata": {},
     "outputs": [
      {
       "metadata": {},
       "output_type": "pyout",
       "prompt_number": 14,
       "text": [
        "5"
       ]
      }
     ],
     "prompt_number": 14
    },
    {
     "cell_type": "code",
     "collapsed": false,
     "input": [
      "eall['a']"
     ],
     "language": "python",
     "metadata": {},
     "outputs": [
      {
       "metadata": {},
       "output_type": "pyout",
       "prompt_number": 15,
       "text": [
        "[5, 5, 5, 5]"
       ]
      }
     ],
     "prompt_number": 15
    },
    {
     "cell_type": "markdown",
     "metadata": {},
     "source": [
      "Again, same shape as the engines"
     ]
    },
    {
     "cell_type": "code",
     "collapsed": false,
     "input": [
      "eall.scatter('eid', rc.ids, flatten=True)"
     ],
     "language": "python",
     "metadata": {},
     "outputs": [
      {
       "metadata": {},
       "output_type": "pyout",
       "prompt_number": 16,
       "text": [
        "<AsyncResult: scatter>"
       ]
      }
     ],
     "prompt_number": 16
    },
    {
     "cell_type": "code",
     "collapsed": false,
     "input": [
      "%px b = a * eid\n",
      "%px print(\"%i * %i = %i\" % (a, eid, b))\n",
      "eall['b']  "
     ],
     "language": "python",
     "metadata": {},
     "outputs": [
      {
       "output_type": "stream",
       "stream": "stdout",
       "text": [
        "[stdout:0] 5 * 0 = 0\n",
        "[stdout:1] 5 * 1 = 5\n",
        "[stdout:2] 5 * 2 = 10\n",
        "[stdout:3] 5 * 3 = 15\n"
       ]
      },
      {
       "metadata": {},
       "output_type": "pyout",
       "prompt_number": 17,
       "text": [
        "[0, 5, 10, 15]"
       ]
      }
     ],
     "prompt_number": 17
    },
    {
     "cell_type": "code",
     "collapsed": false,
     "input": [
      "eall.scatter('b', range(10))\n",
      "%px print b"
     ],
     "language": "python",
     "metadata": {},
     "outputs": [
      {
       "output_type": "stream",
       "stream": "stdout",
       "text": [
        "[stdout:0] [0, 1, 2]\n",
        "[stdout:1] [3, 4, 5]\n",
        "[stdout:2] [6, 7]\n",
        "[stdout:3] [8, 9]\n"
       ]
      }
     ],
     "prompt_number": 18
    },
    {
     "cell_type": "code",
     "collapsed": false,
     "input": [
      "eall.scatter('r', range(8), dist='r')\n",
      "%px print r"
     ],
     "language": "python",
     "metadata": {},
     "outputs": [
      {
       "output_type": "stream",
       "stream": "stdout",
       "text": [
        "[stdout:0] [0, 4]\n",
        "[stdout:1] [1, 5]\n",
        "[stdout:2] [2, 6]\n",
        "[stdout:3] [3, 7]\n"
       ]
      }
     ],
     "prompt_number": 19
    },
    {
     "cell_type": "code",
     "collapsed": false,
     "input": [
      "ar = eall.gather('b')\n",
      "ar.get()"
     ],
     "language": "python",
     "metadata": {},
     "outputs": [
      {
       "metadata": {},
       "output_type": "pyout",
       "prompt_number": 20,
       "text": [
        "[0, 1, 2, 3, 4, 5, 6, 7, 8, 9]"
       ]
      }
     ],
     "prompt_number": 20
    },
    {
     "cell_type": "markdown",
     "metadata": {},
     "source": [
      "`get()` and `update()` dict methods work as well."
     ]
    },
    {
     "cell_type": "markdown",
     "metadata": {},
     "source": [
      "Now we can look at [some](Parallel%20image%20processing.ipynb) [examples](Using%20DirectView%20and%20LoadBalancedView%20Together.ipynb) or [performance characteristics](Performance.ipynb)"
     ]
    }
   ],
   "metadata": {}
  }
 ]
}