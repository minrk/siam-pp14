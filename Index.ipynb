{
 "metadata": {
  "name": "",
  "signature": "sha256:d6d242acb7b6544cf28c645e3c3d7d576070b9405726a9a425f6c9223c2dcd78"
 },
 "nbformat": 3,
 "nbformat_minor": 0,
 "worksheets": [
  {
   "cells": [
    {
     "cell_type": "heading",
     "level": 1,
     "metadata": {},
     "source": [
      "Architecture of IPython.parallel"
     ]
    },
    {
     "cell_type": "markdown",
     "metadata": {},
     "source": [
      "**Min Ragan-Kelley**$^1$, Fernando Perez$^1$, Brian Granger$^2$\n",
      "\n",
      "\n",
      "$^1$ UC Berkeley  \n",
      "$^2$ Cal Poly San Luis Obispo"
     ]
    },
    {
     "cell_type": "markdown",
     "metadata": {},
     "source": [
      "[Overview of the architecture](Overview.ipynb)\n",
      "\n",
      "[The Basic API](The Basic API.ipynb)\n",
      "\n",
      "[Example: Parallel Image Processing](Parallel%20image%20processing.ipynb)"
     ]
    },
    {
     "cell_type": "markdown",
     "metadata": {},
     "source": [
      "Features of IPython not covered:\n",
      "\n",
      "- fault tolerance\n",
      "- result database\n",
      "- task resubmission\n",
      "- DAG dependencies\n",
      "- More of the async API\n",
      "- Remote References"
     ]
    }
   ],
   "metadata": {}
  }
 ]
}