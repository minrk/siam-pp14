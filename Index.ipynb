{
 "metadata": {
  "name": "",
  "signature": "sha256:e837c3f3500ae8777de13ff7cf327a6c4842ffc0f0335ffbf93c3e7e5e5cd134"
 },
 "nbformat": 3,
 "nbformat_minor": 0,
 "worksheets": [
  {
   "cells": [
    {
     "cell_type": "heading",
     "level": 1,
     "metadata": {},
     "source": [
      "Architecture of IPython.parallel"
     ]
    },
    {
     "cell_type": "markdown",
     "metadata": {},
     "source": [
      "**Min Ragan-Kelley**$^1$, Fernando Perez$^1$, Brian Granger$^2$\n",
      "\n",
      "\n",
      "$^1$ UC Berkeley  \n",
      "$^2$ Cal Poly San Luis Obispo\n",
      "\n",
      "SIAM PP, February 19, 2014"
     ]
    },
    {
     "cell_type": "markdown",
     "metadata": {},
     "source": [
      "[Overview of the architecture](Overview.ipynb)\n",
      "\n",
      "[The Basic API](The Basic API.ipynb)\n",
      "\n",
      "[Example: Parallel Image Processing](Parallel%20image%20processing.ipynb)\n",
      "\n",
      "[What's not covered](Not Covered.ipynb)"
     ]
    },
    {
     "cell_type": "markdown",
     "metadata": {},
     "source": [
      "\n",
      "https://github.com/minrk/siam-pp14  \n",
      "http://ipython.org  \n",
      "https://github.com/ipython/ipython  "
     ]
    }
   ],
   "metadata": {}
  }
 ]
}