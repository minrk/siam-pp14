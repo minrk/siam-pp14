{
 "metadata": {
  "name": "",
  "signature": "sha256:2bcff4fe93140f7fdba39147b9f61cd80775c4f5d4b822a9b4cfeefda661991f"
 },
 "nbformat": 3,
 "nbformat_minor": 0,
 "worksheets": [
  {
   "cells": [
    {
     "cell_type": "heading",
     "level": 1,
     "metadata": {},
     "source": [
      "IPython.parallel"
     ]
    },
    {
     "cell_type": "heading",
     "level": 2,
     "metadata": {},
     "source": [
      "Tools for Interactive Parallel Computing"
     ]
    },
    {
     "cell_type": "markdown",
     "metadata": {},
     "source": [
      "**Min Ragan-Kelley**$^1$, Fernando Perez$^1$, Brian Granger$^2$\n",
      "\n",
      "SIAM PP, February 19, 2014\n",
      "\n",
      "$^1$ UC Berkeley  \n",
      "$^2$ Cal Poly San Luis Obispo"
     ]
    },
    {
     "cell_type": "markdown",
     "metadata": {},
     "source": [
      "[Overview of the architecture](Overview.ipynb)\n",
      "\n",
      "[The Basic API](The Basic API.ipynb)\n",
      "\n",
      "[Example: Parallel Image Processing](Parallel%20image%20processing.ipynb)\n",
      "\n",
      "[What's not covered](Not Covered.ipynb)"
     ]
    },
    {
     "cell_type": "markdown",
     "metadata": {},
     "source": [
      "\n",
      "https://github.com/minrk/siam-pp14  \n",
      "http://ipython.org  \n",
      "https://github.com/ipython/ipython  "
     ]
    }
   ],
   "metadata": {}
  }
 ]
}