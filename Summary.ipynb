{
 "metadata": {
  "name": "Summary"
 },
 "nbformat": 3,
 "worksheets": [
  {
   "cells": [
    {
     "cell_type": "markdown",
     "source": [
      "# Summary of what we have covered",
      "",
      "* Simple remote execution of functions, or statements",
      "* Distribution of data",
      "* Parallel map",
      "* Multiplexed execution",
      "* Load-Balanced task farming",
      "* Asynchronous task submission and result retrieval"
     ]
    },
    {
     "cell_type": "markdown",
     "source": [
      "# And further things we have *not* covered",
      "",
      "* Functional Task Dependencies",
      "* Configuring the IPython cluster (working with profiles, SGE, MongoDB, etc.)",
      "* Tuning the IPython Cluster (TaskScheduler.hwm, custom serialization, etc.)",
      "* Inter-engine communication with PyZMQ or MPI",
      "* decorators for parallel and remote functions",
      "* IPython `%magics` for some parallel execution",
      "* Result caching, and task metadata",
      "* The TaskResult Database",
      "* Task resubmission",
      "* Queue monitoring and management",
      "",
      "See the [IPython.parallel docs](http://ipython.org/ipython-doc/dev/parallel) for more detailed coverage of these topics, and check out our [examples](https://www.github.com/ipython/ipython/tree/master/docs/examples/parallel)."
     ]
    },
    {
     "cell_type": "code",
     "collapsed": true,
     "input": [],
     "language": "python",
     "outputs": []
    }
   ]
  }
 ]
}