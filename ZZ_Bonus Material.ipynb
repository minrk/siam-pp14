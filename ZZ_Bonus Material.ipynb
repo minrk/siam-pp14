{
 "metadata": {
  "name": "ZZ_Bonus Material"
 },
 "nbformat": 2,
 "worksheets": [
  {
   "cells": [
    {
     "cell_type": "markdown",
     "source": [
      "# Bonus Material",
      "",
      "This notebook contains a few fun topics in IPython.parallel, in case of extra time."
     ]
    },
    {
     "cell_type": "code",
     "collapsed": true,
     "input": [
      "import os,sys,time",
      "",
      "import numpy as np",
      "",
      "from IPython import parallel"
     ],
     "language": "python",
     "outputs": [],
     "prompt_number": 1
    },
    {
     "cell_type": "markdown",
     "source": [
      "Create the client and views"
     ]
    },
    {
     "cell_type": "code",
     "collapsed": true,
     "input": [
      "rc = parallel.Client()",
      "",
      "e0 = rc[0]",
      "dview = rc[:]",
      "lview = rc.load_balanced_view()"
     ],
     "language": "python",
     "outputs": [],
     "prompt_number": 2
    },
    {
     "cell_type": "markdown",
     "source": [
      "# Decorators"
     ]
    },
    {
     "cell_type": "code",
     "collapsed": true,
     "input": [],
     "language": "python",
     "outputs": []
    }
   ]
  }
 ]
}