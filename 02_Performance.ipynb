{
 "metadata": {
  "name": "02_Performance"
 },
 "nbformat": 2,
 "worksheets": [
  {
   "cells": [
    {
     "cell_type": "markdown",
     "source": [
      "# Performance",
      "",
      "How small do my tasks need to be (aka how fast is IPython)?",
      "",
      "In parallel computing, an important relationship to keep in mind is the",
      "ratio of computation to communication. In order for your simulation to",
      "perform reasonably, you must keep this ratio high. When testing out a",
      "new tool like IPython, it is important to examine the limit of",
      "granularity that is appropriate. If it takes half a second of overhead",
      "to run each task, then breaking your work up into millisecond chunks",
      "isn't going to make sense.",
      "",
      "Basic imports to use later, create a Client, and a LoadBalancedView of all the engines."
     ]
    },
    {
     "cell_type": "code",
     "collapsed": false,
     "input": [
      "import time",
      "import numpy as np",
      "",
      "from IPython.parallel import Client",
      "",
      "rc = Client()",
      "view = rc.load_balanced_view()"
     ],
     "language": "python",
     "outputs": [],
     "prompt_number": 1
    },
    {
     "cell_type": "markdown",
     "source": [
      "## Latency",
      "",
      "Sending and receiving tiny messages gives us a sense of the minimum time",
      "IPython must spend building and sending messages around. This should",
      "give us a sense of the *minimum* overhead of the communication system.",
      "",
      "This should give us a sense of the lower limit on available granularity."
     ]
    },
    {
     "cell_type": "code",
     "collapsed": true,
     "input": [
      "def test_latency(v, n):",
      "    tic = time.time()",
      "    echo = lambda x: x",
      "    tic = time.time()",
      "    for i in xrange(n):",
      "        v.apply_async(echo, '')",
      "    toc = time.time()",
      "    v.wait()",
      "    tac = time.time()",
      "    sent = toc-tic",
      "    roundtrip = tac-tic",
      "    return sent, roundtrip"
     ],
     "language": "python",
     "outputs": [],
     "prompt_number": 2
    },
    {
     "cell_type": "code",
     "collapsed": false,
     "input": [
      "for n in [8,16,32,64,128,256,512,1024]:",
      "    # short rest between tests",
      "    time.sleep(0.5)",
      "    s,rt = test_latency(view, n)",
      "    print \"%4i %6.1f %6.1f\" % (n,n/s,n/rt)"
     ],
     "language": "python",
     "outputs": [
      {
       "output_type": "stream",
       "stream": "stdout",
       "text": [
        "   8 1180.5  237.1",
        "  16  921.2  115.2"
       ]
      },
      {
       "output_type": "stream",
       "stream": "stdout",
       "text": [
        "",
        "  32 1535.5  216.1"
       ]
      },
      {
       "output_type": "stream",
       "stream": "stdout",
       "text": [
        "",
        "  64  443.8  129.3"
       ]
      },
      {
       "output_type": "stream",
       "stream": "stdout",
       "text": [
        "",
        " 128 1009.4  228.8"
       ]
      },
      {
       "output_type": "stream",
       "stream": "stdout",
       "text": [
        "",
        " 256 1233.3  268.3"
       ]
      },
      {
       "output_type": "stream",
       "stream": "stdout",
       "text": [
        "",
        " 512  984.8  295.9"
       ]
      },
      {
       "output_type": "stream",
       "stream": "stdout",
       "text": [
        "",
        "1024  775.9  295.1"
       ]
      },
      {
       "output_type": "stream",
       "stream": "stdout",
       "text": [
        ""
       ]
      }
     ],
     "prompt_number": 4
    },
    {
     "cell_type": "markdown",
     "source": [
      "<img src=\"files/figs/latency.png\" width=\"600px\"/>",
      "",
      "These tests were run on the loopback interface on a fast 8-core machine",
      "with 4 engines and slightly tuned non-default config (msgpack for serialization, TaskScheduler.HWM=0).",
      "",
      "The tests were done with the Python scheduler and pure-zmq scheduler,",
      "and with/without an SSH tunnel. We can see that the Python scheduler can",
      "do about 800 tasks/sec, while the pure-zmq scheduler gets an extra",
      "factor of two, at around 1.5k tasks/sec roundtrip. Purely outgoing - the",
      "time before the Client code can go on working, is closer to 4k msgs/sec",
      "sent. Using an SSH tunnel does not significantly impact performance, as",
      "long as you have a few tasks to line up.",
      "",
      "Running the same test on a dedicated cluster with up to 128 CPUs shows",
      "that IPython does scale reasonably well.",
      "",
      "<img src=\"files/figs/latency2.png\"/>"
     ]
    },
    {
     "cell_type": "markdown",
     "source": [
      "## Throughput",
      "",
      "Echoing numpy arrays is similar to the latency test, but scaling the",
      "array size instead of the number of messages tests the limits when there",
      "is data to be transferred."
     ]
    },
    {
     "cell_type": "code",
     "collapsed": true,
     "input": [
      "def test_throughput(v, n, s):",
      "    A = np.random.random(s/8) # doubles are 8B",
      "    tic = time.time()",
      "    echo = lambda x: x",
      "    tic = time.time()",
      "    for i in xrange(n):",
      "        v.apply_async(echo, A)",
      "    toc = time.time()",
      "    v.wait()",
      "    tac = time.time()",
      "    sent = toc-tic",
      "    roundtrip = tac-tic",
      "    return sent, roundtrip"
     ],
     "language": "python",
     "outputs": [],
     "prompt_number": 5
    },
    {
     "cell_type": "code",
     "collapsed": false,
     "input": [
      "n = 128",
      "for sz in [1e1,1e2,1e3,1e4,1e5,5e5,1e6,2e6]:",
      "    # short rest between tests",
      "    time.sleep(1)",
      "    s,rt = test_throughput(view, n, int(sz))",
      "    print \"%8i  %6.1f  %6.1f\" % (sz,n/s,n/rt)"
     ],
     "language": "python",
     "outputs": [
      {
       "output_type": "stream",
       "stream": "stdout",
       "text": [
        "      10   784.0   124.1",
        "     100  1010.8   251.9"
       ]
      },
      {
       "output_type": "stream",
       "stream": "stdout",
       "text": [
        "",
        "    1000  1109.0   242.5"
       ]
      },
      {
       "output_type": "stream",
       "stream": "stdout",
       "text": [
        "",
        "   10000   707.2   217.9"
       ]
      },
      {
       "output_type": "stream",
       "stream": "stdout",
       "text": [
        "",
        "  100000   841.6   209.6"
       ]
      },
      {
       "output_type": "stream",
       "stream": "stdout",
       "text": [
        "",
        "  500000   717.2    96.8"
       ]
      },
      {
       "output_type": "stream",
       "stream": "stdout",
       "text": [
        "",
        " 1000000  1439.6    69.5"
       ]
      },
      {
       "output_type": "stream",
       "stream": "stdout",
       "text": [
        "",
        " 2000000   552.0    42.5"
       ]
      },
      {
       "output_type": "stream",
       "stream": "stdout",
       "text": [
        ""
       ]
      }
     ],
     "prompt_number": 7
    },
    {
     "cell_type": "markdown",
     "source": [
      "<img src=\"files/figs/throughput1.png\" width=\"600px\"/>",
      "",
      "Note that the dotted lines, which measure the time it took to *send* the",
      "arrays is *not* a function of the message size. This is again thanks to",
      "pyzmq's non-copying sends. Locally, we can send 100 4MB arrays in ~50",
      "ms, and libzmq will take care of actually transmitting the data while we",
      "can go on working.",
      "",
      "Plotting the same data, scaled by message size shows that we are",
      "saturating the connection at ~1Gbps with ~10kB messages when using",
      "SSH, and ~10Gbps with ~50kB messages when not using SSH.",
      "",
      "<img src=\"files/figs/throughput2.png\" width=\"600px\"/>"
     ]
    },
    {
     "cell_type": "markdown",
     "source": [
      "## Map",
      "",
      "Another useful test is seeing how fast \\`view.map\\` is, for various",
      "numbers of tasks and for tasks of varying size.",
      "",
      "These tests were done on [AWS](http://aws.amazon.com/) extra-large",
      "instances with the help of",
      "[StarCluster](http://web.mit.edu/stardev/cluster/), so the IO and CPU",
      "performance are quite low compared to a physical cluster."
     ]
    },
    {
     "cell_type": "code",
     "collapsed": true,
     "input": [
      "def test_map(v,dt,n):",
      "    ts = [dt]*n",
      "    tic = time.time()",
      "    amr = v.map_async(time.sleep, ts)",
      "    toc = time.time()",
      "    amr.get()",
      "    tac = time.time()",
      "    sent = toc-tic",
      "    roundtrip = tac-tic",
      "    return sent, roundtrip"
     ],
     "language": "python",
     "outputs": [],
     "prompt_number": 8
    },
    {
     "cell_type": "code",
     "collapsed": false,
     "input": [
      "n = len(rc.ids) * 16",
      "for dt in np.logspace(-3,0,7):",
      "    time.sleep(0.5)",
      "    s,rt = test_map(view, dt, n)",
      "    print \"%4ims %5.1f%%\" % (1000*dt, 1600*dt / rt)"
     ],
     "language": "python",
     "outputs": [
      {
       "output_type": "stream",
       "stream": "stdout",
       "text": [
        "   1ms   5.5%",
        "   3ms  11.2%"
       ]
      },
      {
       "output_type": "stream",
       "stream": "stdout",
       "text": [
        "",
        "  10ms  60.8%"
       ]
      },
      {
       "output_type": "stream",
       "stream": "stdout",
       "text": [
        "",
        "  31ms  85.6%"
       ]
      },
      {
       "output_type": "stream",
       "stream": "stdout",
       "text": [
        "",
        " 100ms  94.0%"
       ]
      },
      {
       "output_type": "stream",
       "stream": "stdout",
       "text": [
        "",
        " 316ms  97.9%"
       ]
      },
      {
       "output_type": "stream",
       "stream": "stdout",
       "text": [
        "",
        "1000ms  99.2%"
       ]
      },
      {
       "output_type": "stream",
       "stream": "stdout",
       "text": [
        ""
       ]
      }
     ],
     "prompt_number": 9
    },
    {
     "cell_type": "markdown",
     "source": [
      "<img src=\"files/figs/map.png\">",
      "",
      "This shows runs for jobs ranging from 1 to 128 ms, on 4,31,and 63",
      "engines. On this system, millisecond jobs are clearly too small, but by",
      "the time individual tasks are \\> 100 ms, IPython overhead is negligible.",
      "",
      "Now let's see how we use it for remote execution."
     ]
    }
   ]
  }
 ]
}