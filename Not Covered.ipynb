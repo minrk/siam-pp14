{
 "metadata": {
  "name": "",
  "signature": "sha256:dd4e1d5c8a168cc5388a2a1eb84aa6bf42bbb9e343a0e690e88abedf1de61218"
 },
 "nbformat": 3,
 "nbformat_minor": 0,
 "worksheets": [
  {
   "cells": [
    {
     "cell_type": "markdown",
     "metadata": {},
     "source": [
      "Features of IPython not covered:\n",
      "\n",
      "- fault tolerance\n",
      "- result database\n",
      "- task resubmission\n",
      "- DAG dependencies\n",
      "- More of the async API\n",
      "- Remote References"
     ]
    }
   ],
   "metadata": {}
  }
 ]
}